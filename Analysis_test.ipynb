{
  "nbformat": 4,
  "nbformat_minor": 0,
  "metadata": {
    "colab": {
      "name": "Analysis-test",
      "provenance": [],
      "toc_visible": true,
      "authorship_tag": "ABX9TyOwA6vSWeyCgVkqO2j83bGn",
      "include_colab_link": true
    },
    "kernelspec": {
      "name": "python3",
      "display_name": "Python 3"
    },
    "widgets": {
      "application/vnd.jupyter.widget-state+json": {
        "526b20f1d40743a7a6d6d2f2431c622f": {
          "model_module": "@jupyter-widgets/controls",
          "model_name": "HBoxModel",
          "state": {
            "_view_name": "HBoxView",
            "_dom_classes": [],
            "_model_name": "HBoxModel",
            "_view_module": "@jupyter-widgets/controls",
            "_model_module_version": "1.5.0",
            "_view_count": null,
            "_view_module_version": "1.5.0",
            "box_style": "",
            "layout": "IPY_MODEL_24357adf78b74d05855088a9478633ac",
            "_model_module": "@jupyter-widgets/controls",
            "children": [
              "IPY_MODEL_1b7384eb80f14700a08efd099be56289",
              "IPY_MODEL_b3ddc997f67542bc8556b2ad4b00f1fc"
            ]
          }
        },
        "24357adf78b74d05855088a9478633ac": {
          "model_module": "@jupyter-widgets/base",
          "model_name": "LayoutModel",
          "state": {
            "_view_name": "LayoutView",
            "grid_template_rows": null,
            "right": null,
            "justify_content": null,
            "_view_module": "@jupyter-widgets/base",
            "overflow": null,
            "_model_module_version": "1.2.0",
            "_view_count": null,
            "flex_flow": null,
            "width": null,
            "min_width": null,
            "border": null,
            "align_items": null,
            "bottom": null,
            "_model_module": "@jupyter-widgets/base",
            "top": null,
            "grid_column": null,
            "overflow_y": null,
            "overflow_x": null,
            "grid_auto_flow": null,
            "grid_area": null,
            "grid_template_columns": null,
            "flex": null,
            "_model_name": "LayoutModel",
            "justify_items": null,
            "grid_row": null,
            "max_height": null,
            "align_content": null,
            "visibility": null,
            "align_self": null,
            "height": null,
            "min_height": null,
            "padding": null,
            "grid_auto_rows": null,
            "grid_gap": null,
            "max_width": null,
            "order": null,
            "_view_module_version": "1.2.0",
            "grid_template_areas": null,
            "object_position": null,
            "object_fit": null,
            "grid_auto_columns": null,
            "margin": null,
            "display": null,
            "left": null
          }
        },
        "1b7384eb80f14700a08efd099be56289": {
          "model_module": "@jupyter-widgets/controls",
          "model_name": "FloatProgressModel",
          "state": {
            "_view_name": "ProgressView",
            "style": "IPY_MODEL_c9c92f2a2730423ca3693838e7ff922f",
            "_dom_classes": [],
            "description": "Export report to file: 100%",
            "_model_name": "FloatProgressModel",
            "bar_style": "success",
            "max": 1,
            "_view_module": "@jupyter-widgets/controls",
            "_model_module_version": "1.5.0",
            "value": 1,
            "_view_count": null,
            "_view_module_version": "1.5.0",
            "orientation": "horizontal",
            "min": 0,
            "description_tooltip": null,
            "_model_module": "@jupyter-widgets/controls",
            "layout": "IPY_MODEL_1cd544ca48f44824b234723f660a0d04"
          }
        },
        "b3ddc997f67542bc8556b2ad4b00f1fc": {
          "model_module": "@jupyter-widgets/controls",
          "model_name": "HTMLModel",
          "state": {
            "_view_name": "HTMLView",
            "style": "IPY_MODEL_29fd8382e0c4478bad3bc20061a6908d",
            "_dom_classes": [],
            "description": "",
            "_model_name": "HTMLModel",
            "placeholder": "​",
            "_view_module": "@jupyter-widgets/controls",
            "_model_module_version": "1.5.0",
            "value": " 1/1 [03:38&lt;00:00, 218.72s/it]",
            "_view_count": null,
            "_view_module_version": "1.5.0",
            "description_tooltip": null,
            "_model_module": "@jupyter-widgets/controls",
            "layout": "IPY_MODEL_0c36946805574151844bddc886d792d0"
          }
        },
        "c9c92f2a2730423ca3693838e7ff922f": {
          "model_module": "@jupyter-widgets/controls",
          "model_name": "ProgressStyleModel",
          "state": {
            "_view_name": "StyleView",
            "_model_name": "ProgressStyleModel",
            "description_width": "initial",
            "_view_module": "@jupyter-widgets/base",
            "_model_module_version": "1.5.0",
            "_view_count": null,
            "_view_module_version": "1.2.0",
            "bar_color": null,
            "_model_module": "@jupyter-widgets/controls"
          }
        },
        "1cd544ca48f44824b234723f660a0d04": {
          "model_module": "@jupyter-widgets/base",
          "model_name": "LayoutModel",
          "state": {
            "_view_name": "LayoutView",
            "grid_template_rows": null,
            "right": null,
            "justify_content": null,
            "_view_module": "@jupyter-widgets/base",
            "overflow": null,
            "_model_module_version": "1.2.0",
            "_view_count": null,
            "flex_flow": null,
            "width": null,
            "min_width": null,
            "border": null,
            "align_items": null,
            "bottom": null,
            "_model_module": "@jupyter-widgets/base",
            "top": null,
            "grid_column": null,
            "overflow_y": null,
            "overflow_x": null,
            "grid_auto_flow": null,
            "grid_area": null,
            "grid_template_columns": null,
            "flex": null,
            "_model_name": "LayoutModel",
            "justify_items": null,
            "grid_row": null,
            "max_height": null,
            "align_content": null,
            "visibility": null,
            "align_self": null,
            "height": null,
            "min_height": null,
            "padding": null,
            "grid_auto_rows": null,
            "grid_gap": null,
            "max_width": null,
            "order": null,
            "_view_module_version": "1.2.0",
            "grid_template_areas": null,
            "object_position": null,
            "object_fit": null,
            "grid_auto_columns": null,
            "margin": null,
            "display": null,
            "left": null
          }
        },
        "29fd8382e0c4478bad3bc20061a6908d": {
          "model_module": "@jupyter-widgets/controls",
          "model_name": "DescriptionStyleModel",
          "state": {
            "_view_name": "StyleView",
            "_model_name": "DescriptionStyleModel",
            "description_width": "",
            "_view_module": "@jupyter-widgets/base",
            "_model_module_version": "1.5.0",
            "_view_count": null,
            "_view_module_version": "1.2.0",
            "_model_module": "@jupyter-widgets/controls"
          }
        },
        "0c36946805574151844bddc886d792d0": {
          "model_module": "@jupyter-widgets/base",
          "model_name": "LayoutModel",
          "state": {
            "_view_name": "LayoutView",
            "grid_template_rows": null,
            "right": null,
            "justify_content": null,
            "_view_module": "@jupyter-widgets/base",
            "overflow": null,
            "_model_module_version": "1.2.0",
            "_view_count": null,
            "flex_flow": null,
            "width": null,
            "min_width": null,
            "border": null,
            "align_items": null,
            "bottom": null,
            "_model_module": "@jupyter-widgets/base",
            "top": null,
            "grid_column": null,
            "overflow_y": null,
            "overflow_x": null,
            "grid_auto_flow": null,
            "grid_area": null,
            "grid_template_columns": null,
            "flex": null,
            "_model_name": "LayoutModel",
            "justify_items": null,
            "grid_row": null,
            "max_height": null,
            "align_content": null,
            "visibility": null,
            "align_self": null,
            "height": null,
            "min_height": null,
            "padding": null,
            "grid_auto_rows": null,
            "grid_gap": null,
            "max_width": null,
            "order": null,
            "_view_module_version": "1.2.0",
            "grid_template_areas": null,
            "object_position": null,
            "object_fit": null,
            "grid_auto_columns": null,
            "margin": null,
            "display": null,
            "left": null
          }
        }
      }
    }
  },
  "cells": [
    {
      "cell_type": "markdown",
      "metadata": {
        "id": "view-in-github",
        "colab_type": "text"
      },
      "source": [
        "<a href=\"https://colab.research.google.com/github/jessicabellas/Data-Intern-ChallengeJB/blob/master/Analysis_test.ipynb\" target=\"_parent\"><img src=\"https://colab.research.google.com/assets/colab-badge.svg\" alt=\"Open In Colab\"/></a>"
      ]
    },
    {
      "cell_type": "markdown",
      "metadata": {
        "id": "Q__Bmpnqk2FS",
        "colab_type": "text"
      },
      "source": [
        "#2. Analysis: \n",
        "Vou iniciar a prática importando todos os pacotes que precisarei. \n"
      ]
    },
    {
      "cell_type": "code",
      "metadata": {
        "id": "N_putQ4tKb7-",
        "colab_type": "code",
        "colab": {
          "base_uri": "https://localhost:8080/",
          "height": 143
        },
        "outputId": "37fc9d68-4ef2-4505-940b-36ab402927fb"
      },
      "source": [
        "# Imports\n",
        "import pandas as pd\n",
        "import numpy as np\n",
        "import seaborn as sns\n",
        "import matplotlib.pyplot as plt\n",
        "import missingno as ms # para tratamento de missings\n",
        "\n",
        "from pandas import read_csv\n",
        "from pandas import set_option\n",
        "from pandas_profiling import ProfileReport\n",
        "\n",
        "from matplotlib import cm\n",
        "from collections import Counter\n",
        "\n",
        "from sklearn.preprocessing import MinMaxScaler # para normalização\n",
        "from sklearn.preprocessing import Normalizer # para normalização\n",
        "from sklearn.preprocessing import StandardScaler # para padronização\n",
        "\n",
        "from sklearn.model_selection import train_test_split\n",
        "from sklearn.model_selection import KFold\n",
        "from sklearn.model_selection import cross_val_score\n",
        "from sklearn.model_selection import GridSearchCV # para o grid search\n",
        "\n",
        "from sklearn.metrics import confusion_matrix\n",
        "from sklearn.metrics import accuracy_score\n",
        "from sklearn.metrics import precision_score\n",
        "from sklearn.metrics import recall_score\n",
        "from sklearn.metrics import f1_score\n",
        "from sklearn.metrics import classification_report\n",
        "\n",
        "from sklearn.linear_model import LogisticRegression\n",
        "from sklearn.linear_model import LinearRegression\n",
        "from sklearn.linear_model import Ridge\n",
        "from sklearn.linear_model import Lasso\n",
        "from sklearn.linear_model import ElasticNet\n",
        "\n",
        "from sklearn.ensemble import VotingClassifier\n",
        "from sklearn.ensemble import BaggingClassifier\n",
        "from sklearn.ensemble import IsolationForest\n",
        "from sklearn.ensemble import AdaBoostClassifier\n",
        "from sklearn.ensemble import GradientBoostingClassifier\n",
        "from sklearn.ensemble import RandomForestClassifier\n",
        "from sklearn.ensemble import ExtraTreesClassifier\n",
        "\n",
        "from sklearn.svm import OneClassSVM\n",
        "from sklearn.svm import SVC\n",
        "from sklearn.svm import SVR\n",
        "from sklearn.pipeline import Pipeline # para o pipeline\n",
        "from sklearn.preprocessing import PowerTransformer\n",
        "from sklearn.neighbors import KNeighborsRegressor\n",
        "from sklearn.neighbors import LocalOutlierFactor\n",
        "from sklearn.tree import DecisionTreeRegressor\n",
        "from sklearn.naive_bayes import GaussianNB\n",
        "\n",
        "from imblearn.under_sampling import RandomUnderSampler\n",
        "from imblearn.over_sampling import SMOTE\n",
        "from imblearn.combine import SMOTEENN\n",
        "\n",
        "\n"
      ],
      "execution_count": null,
      "outputs": [
        {
          "output_type": "stream",
          "text": [
            "/usr/local/lib/python3.6/dist-packages/statsmodels/tools/_testing.py:19: FutureWarning: pandas.util.testing is deprecated. Use the functions in the public API at pandas.testing instead.\n",
            "  import pandas.util.testing as tm\n",
            "/usr/local/lib/python3.6/dist-packages/sklearn/externals/six.py:31: FutureWarning: The module is deprecated in version 0.21 and will be removed in version 0.23 since we've dropped support for Python 2.7. Please rely on the official version of six (https://pypi.org/project/six/).\n",
            "  \"(https://pypi.org/project/six/).\", FutureWarning)\n",
            "/usr/local/lib/python3.6/dist-packages/sklearn/utils/deprecation.py:144: FutureWarning: The sklearn.neighbors.base module is  deprecated in version 0.22 and will be removed in version 0.24. The corresponding classes / functions should instead be imported from sklearn.neighbors. Anything that cannot be imported from sklearn.neighbors is now part of the private API.\n",
            "  warnings.warn(message, FutureWarning)\n"
          ],
          "name": "stderr"
        }
      ]
    },
    {
      "cell_type": "markdown",
      "metadata": {
        "id": "1x4gPjLspfbo",
        "colab_type": "text"
      },
      "source": [
        "Faça download do dataset no GitHub, salvando o arquivo em seu diretório de trabalho local com o nome stonedesafio.csv. Em seguida, importe o arquivo para a variável dataset, conforme mostrado no código abaixo. Indicaremos que as informações de cabeçalho (header) estão na primeira linha, que tem índice 0. \n"
      ]
    },
    {
      "cell_type": "code",
      "metadata": {
        "id": "gRkl8cN2OghE",
        "colab_type": "code",
        "colab": {
          "base_uri": "https://localhost:8080/",
          "height": 215
        },
        "outputId": "35421820-e9df-4776-e84a-29331a12e80b"
      },
      "source": [
        "dataset = pd.read_csv('stonedesafio.csv')\n",
        "\n",
        "dataset.columns = ['Idade', 'Segmento', 'Numero_Cartao', \n",
        "                   'Cartao_familia', 'Limite_Credito', 'Mes_transacao',\n",
        "                    'Valor_Transacao', 'Limite_Transacao', 'Class'] \n",
        "\n",
        "print('Este dataset possui %s linhas e %s colunas' % (dataset.shape[0], dataset.shape[1]))\n",
        "\n",
        "dataset.head()"
      ],
      "execution_count": null,
      "outputs": [
        {
          "output_type": "stream",
          "text": [
            "Este dataset possui 9999 linhas e 9 colunas\n"
          ],
          "name": "stdout"
        },
        {
          "output_type": "execute_result",
          "data": {
            "text/html": [
              "<div>\n",
              "<style scoped>\n",
              "    .dataframe tbody tr th:only-of-type {\n",
              "        vertical-align: middle;\n",
              "    }\n",
              "\n",
              "    .dataframe tbody tr th {\n",
              "        vertical-align: top;\n",
              "    }\n",
              "\n",
              "    .dataframe thead th {\n",
              "        text-align: right;\n",
              "    }\n",
              "</style>\n",
              "<table border=\"1\" class=\"dataframe\">\n",
              "  <thead>\n",
              "    <tr style=\"text-align: right;\">\n",
              "      <th></th>\n",
              "      <th>Idade</th>\n",
              "      <th>Segmento</th>\n",
              "      <th>Numero_Cartao</th>\n",
              "      <th>Cartao_familia</th>\n",
              "      <th>Limite_Credito</th>\n",
              "      <th>Mes_transacao</th>\n",
              "      <th>Valor_Transacao</th>\n",
              "      <th>Limite_Transacao</th>\n",
              "      <th>Class</th>\n",
              "    </tr>\n",
              "  </thead>\n",
              "  <tbody>\n",
              "    <tr>\n",
              "      <th>0</th>\n",
              "      <td>39</td>\n",
              "      <td>1</td>\n",
              "      <td>7430689562274665</td>\n",
              "      <td>3</td>\n",
              "      <td>18000</td>\n",
              "      <td>1</td>\n",
              "      <td>8259</td>\n",
              "      <td>0.46</td>\n",
              "      <td>0</td>\n",
              "    </tr>\n",
              "    <tr>\n",
              "      <th>1</th>\n",
              "      <td>39</td>\n",
              "      <td>1</td>\n",
              "      <td>7430689562274665</td>\n",
              "      <td>3</td>\n",
              "      <td>18000</td>\n",
              "      <td>1</td>\n",
              "      <td>30684</td>\n",
              "      <td>1.70</td>\n",
              "      <td>0</td>\n",
              "    </tr>\n",
              "    <tr>\n",
              "      <th>2</th>\n",
              "      <td>39</td>\n",
              "      <td>1</td>\n",
              "      <td>7430689562274665</td>\n",
              "      <td>3</td>\n",
              "      <td>18000</td>\n",
              "      <td>2</td>\n",
              "      <td>3119</td>\n",
              "      <td>0.17</td>\n",
              "      <td>0</td>\n",
              "    </tr>\n",
              "    <tr>\n",
              "      <th>3</th>\n",
              "      <td>39</td>\n",
              "      <td>1</td>\n",
              "      <td>7430689562274665</td>\n",
              "      <td>3</td>\n",
              "      <td>18000</td>\n",
              "      <td>3</td>\n",
              "      <td>48677</td>\n",
              "      <td>2.70</td>\n",
              "      <td>0</td>\n",
              "    </tr>\n",
              "    <tr>\n",
              "      <th>4</th>\n",
              "      <td>39</td>\n",
              "      <td>1</td>\n",
              "      <td>7430689562274665</td>\n",
              "      <td>3</td>\n",
              "      <td>18000</td>\n",
              "      <td>4</td>\n",
              "      <td>17029</td>\n",
              "      <td>0.95</td>\n",
              "      <td>0</td>\n",
              "    </tr>\n",
              "  </tbody>\n",
              "</table>\n",
              "</div>"
            ],
            "text/plain": [
              "   Idade  Segmento     Numero_Cartao  ...  Valor_Transacao  Limite_Transacao  Class\n",
              "0     39         1  7430689562274665  ...             8259              0.46      0\n",
              "1     39         1  7430689562274665  ...            30684              1.70      0\n",
              "2     39         1  7430689562274665  ...             3119              0.17      0\n",
              "3     39         1  7430689562274665  ...            48677              2.70      0\n",
              "4     39         1  7430689562274665  ...            17029              0.95      0\n",
              "\n",
              "[5 rows x 9 columns]"
            ]
          },
          "metadata": {
            "tags": []
          },
          "execution_count": 44
        }
      ]
    },
    {
      "cell_type": "code",
      "metadata": {
        "id": "fUIxs3NxtDtc",
        "colab_type": "code",
        "colab": {}
      },
      "source": [
        "dataset.rename(columns={'Segmento':'Seg','Numero_Cartao':'N_card' }, inplace=True )"
      ],
      "execution_count": null,
      "outputs": []
    },
    {
      "cell_type": "code",
      "metadata": {
        "id": "TIVZGNrlteMo",
        "colab_type": "code",
        "colab": {
          "base_uri": "https://localhost:8080/",
          "height": 197
        },
        "outputId": "464b2fb4-55a3-404a-dae5-11d4349574bc"
      },
      "source": [
        "dataset.head()"
      ],
      "execution_count": null,
      "outputs": [
        {
          "output_type": "execute_result",
          "data": {
            "text/html": [
              "<div>\n",
              "<style scoped>\n",
              "    .dataframe tbody tr th:only-of-type {\n",
              "        vertical-align: middle;\n",
              "    }\n",
              "\n",
              "    .dataframe tbody tr th {\n",
              "        vertical-align: top;\n",
              "    }\n",
              "\n",
              "    .dataframe thead th {\n",
              "        text-align: right;\n",
              "    }\n",
              "</style>\n",
              "<table border=\"1\" class=\"dataframe\">\n",
              "  <thead>\n",
              "    <tr style=\"text-align: right;\">\n",
              "      <th></th>\n",
              "      <th>Idade</th>\n",
              "      <th>Segmento</th>\n",
              "      <th>Numero_Cartao</th>\n",
              "      <th>Cartao_familia</th>\n",
              "      <th>Limite_Credito</th>\n",
              "      <th>Mes_transacao</th>\n",
              "      <th>Valor_Transacao</th>\n",
              "      <th>Limite_Transacao</th>\n",
              "      <th>Class</th>\n",
              "    </tr>\n",
              "  </thead>\n",
              "  <tbody>\n",
              "    <tr>\n",
              "      <th>0</th>\n",
              "      <td>39</td>\n",
              "      <td>1</td>\n",
              "      <td>7430689562274665</td>\n",
              "      <td>3</td>\n",
              "      <td>18000</td>\n",
              "      <td>1</td>\n",
              "      <td>8259</td>\n",
              "      <td>0.46</td>\n",
              "      <td>0</td>\n",
              "    </tr>\n",
              "    <tr>\n",
              "      <th>1</th>\n",
              "      <td>39</td>\n",
              "      <td>1</td>\n",
              "      <td>7430689562274665</td>\n",
              "      <td>3</td>\n",
              "      <td>18000</td>\n",
              "      <td>1</td>\n",
              "      <td>30684</td>\n",
              "      <td>1.70</td>\n",
              "      <td>0</td>\n",
              "    </tr>\n",
              "    <tr>\n",
              "      <th>2</th>\n",
              "      <td>39</td>\n",
              "      <td>1</td>\n",
              "      <td>7430689562274665</td>\n",
              "      <td>3</td>\n",
              "      <td>18000</td>\n",
              "      <td>2</td>\n",
              "      <td>3119</td>\n",
              "      <td>0.17</td>\n",
              "      <td>0</td>\n",
              "    </tr>\n",
              "    <tr>\n",
              "      <th>3</th>\n",
              "      <td>39</td>\n",
              "      <td>1</td>\n",
              "      <td>7430689562274665</td>\n",
              "      <td>3</td>\n",
              "      <td>18000</td>\n",
              "      <td>3</td>\n",
              "      <td>48677</td>\n",
              "      <td>2.70</td>\n",
              "      <td>0</td>\n",
              "    </tr>\n",
              "    <tr>\n",
              "      <th>4</th>\n",
              "      <td>39</td>\n",
              "      <td>1</td>\n",
              "      <td>7430689562274665</td>\n",
              "      <td>3</td>\n",
              "      <td>18000</td>\n",
              "      <td>4</td>\n",
              "      <td>17029</td>\n",
              "      <td>0.95</td>\n",
              "      <td>0</td>\n",
              "    </tr>\n",
              "  </tbody>\n",
              "</table>\n",
              "</div>"
            ],
            "text/plain": [
              "   Idade  Segmento     Numero_Cartao  ...  Valor_Transacao  Limite_Transacao  Class\n",
              "0     39         1  7430689562274665  ...             8259              0.46      0\n",
              "1     39         1  7430689562274665  ...            30684              1.70      0\n",
              "2     39         1  7430689562274665  ...             3119              0.17      0\n",
              "3     39         1  7430689562274665  ...            48677              2.70      0\n",
              "4     39         1  7430689562274665  ...            17029              0.95      0\n",
              "\n",
              "[5 rows x 9 columns]"
            ]
          },
          "metadata": {
            "tags": []
          },
          "execution_count": 48
        }
      ]
    },
    {
      "cell_type": "code",
      "metadata": {
        "id": "lB1K_YJmthZI",
        "colab_type": "code",
        "colab": {
          "base_uri": "https://localhost:8080/",
          "height": 87
        },
        "outputId": "379f4ccb-ac03-4302-eab7-621640ac0b1a"
      },
      "source": [
        "dataset['Cartao_familia'].value_counts()"
      ],
      "execution_count": null,
      "outputs": [
        {
          "output_type": "execute_result",
          "data": {
            "text/plain": [
              "1    4099\n",
              "3    3635\n",
              "2    2265\n",
              "Name: Cartao_familia, dtype: int64"
            ]
          },
          "metadata": {
            "tags": []
          },
          "execution_count": 34
        }
      ]
    },
    {
      "cell_type": "code",
      "metadata": {
        "id": "EVaZrNvMwTGt",
        "colab_type": "code",
        "colab": {}
      },
      "source": [
        "dataset.drop('Limite_Transacao', axis=1, inplace=True)"
      ],
      "execution_count": null,
      "outputs": []
    },
    {
      "cell_type": "markdown",
      "metadata": {
        "id": "-arzgSkRqXJ8",
        "colab_type": "text"
      },
      "source": [
        "#Analise dos dados\n"
      ]
    },
    {
      "cell_type": "markdown",
      "metadata": {
        "id": "1oxo0WxtEDe9",
        "colab_type": "text"
      },
      "source": [
        "Eu gostaria de saber como a linguagem Python está tratando estes dados, portanto, utilizarei o comando dtypes para tal."
      ]
    },
    {
      "cell_type": "code",
      "metadata": {
        "id": "cZX3FklVySoA",
        "colab_type": "code",
        "colab": {
          "base_uri": "https://localhost:8080/",
          "height": 301
        },
        "outputId": "f616004f-4711-4a79-b3df-a1d02c19ac00"
      },
      "source": [
        "dataset.info()"
      ],
      "execution_count": null,
      "outputs": [
        {
          "output_type": "stream",
          "text": [
            "<class 'pandas.core.frame.DataFrame'>\n",
            "RangeIndex: 9999 entries, 0 to 9998\n",
            "Data columns (total 9 columns):\n",
            " #   Column            Non-Null Count  Dtype  \n",
            "---  ------            --------------  -----  \n",
            " 0   Idade             9999 non-null   int64  \n",
            " 1   Segmento          9999 non-null   int64  \n",
            " 2   Numero_Cartao     9999 non-null   int64  \n",
            " 3   Cartao_familia    9999 non-null   int64  \n",
            " 4   Limite_Credito    9999 non-null   int64  \n",
            " 5   Mes_transacao     9999 non-null   int64  \n",
            " 6   Valor_Transacao   9999 non-null   int64  \n",
            " 7   Limite_Transacao  9999 non-null   float64\n",
            " 8   Class             9999 non-null   int64  \n",
            "dtypes: float64(1), int64(8)\n",
            "memory usage: 703.2 KB\n"
          ],
          "name": "stdout"
        }
      ]
    },
    {
      "cell_type": "code",
      "metadata": {
        "id": "w8A_k3KIynEN",
        "colab_type": "code",
        "colab": {
          "base_uri": "https://localhost:8080/",
          "height": 87
        },
        "outputId": "f6c1ee98-6567-4c08-b261-7677b548a87d"
      },
      "source": [
        "dataset.groupby('Class').size()"
      ],
      "execution_count": null,
      "outputs": [
        {
          "output_type": "execute_result",
          "data": {
            "text/plain": [
              "Class\n",
              "0    9890\n",
              "1     109\n",
              "dtype: int64"
            ]
          },
          "metadata": {
            "tags": []
          },
          "execution_count": 100
        }
      ]
    },
    {
      "cell_type": "markdown",
      "metadata": {
        "id": "LTECLkEsrzi0",
        "colab_type": "text"
      },
      "source": [
        "Podemos verificar que há um desbalanceamento (98,9% x 1,1%) nos valores de classe. Isto quer dizer que o nosso modelo precisa ter uma acurácia maior do que 99% para que ele seja melhor do que o classificador de classe mais frequente (que sempre afirmaria que a transação é normal, e acertaria em torno de 98,9% das vezes).\n",
        "\n"
      ]
    },
    {
      "cell_type": "code",
      "metadata": {
        "id": "DbB7nkSsyoO3",
        "colab_type": "code",
        "colab": {
          "base_uri": "https://localhost:8080/",
          "height": 194
        },
        "outputId": "a2c34e10-f39f-4a75-a33c-89bcb0a579be"
      },
      "source": [
        "dataset.isnull().sum()"
      ],
      "execution_count": null,
      "outputs": [
        {
          "output_type": "execute_result",
          "data": {
            "text/plain": [
              "Idade               0\n",
              "Segmento            0\n",
              "Numero_Cartao       0\n",
              "Cartao_familia      0\n",
              "Limite_Credito      0\n",
              "Mes_transacao       0\n",
              "Valor_Transacao     0\n",
              "Limite_Transacao    0\n",
              "Class               0\n",
              "dtype: int64"
            ]
          },
          "metadata": {
            "tags": []
          },
          "execution_count": 9
        }
      ]
    },
    {
      "cell_type": "code",
      "metadata": {
        "id": "Ar_ZJmvLysl2",
        "colab_type": "code",
        "colab": {
          "base_uri": "https://localhost:8080/",
          "height": 287
        },
        "outputId": "e08f6281-15e5-486b-e8e1-213c30575c50"
      },
      "source": [
        "# resumo estatístico\n",
        "dataset.describe()"
      ],
      "execution_count": null,
      "outputs": [
        {
          "output_type": "execute_result",
          "data": {
            "text/html": [
              "<div>\n",
              "<style scoped>\n",
              "    .dataframe tbody tr th:only-of-type {\n",
              "        vertical-align: middle;\n",
              "    }\n",
              "\n",
              "    .dataframe tbody tr th {\n",
              "        vertical-align: top;\n",
              "    }\n",
              "\n",
              "    .dataframe thead th {\n",
              "        text-align: right;\n",
              "    }\n",
              "</style>\n",
              "<table border=\"1\" class=\"dataframe\">\n",
              "  <thead>\n",
              "    <tr style=\"text-align: right;\">\n",
              "      <th></th>\n",
              "      <th>Idade</th>\n",
              "      <th>Seg</th>\n",
              "      <th>N_card</th>\n",
              "      <th>Cartao_familia</th>\n",
              "      <th>Limite_Credito</th>\n",
              "      <th>Mes_transacao</th>\n",
              "      <th>Valor_Transacao</th>\n",
              "      <th>Class</th>\n",
              "    </tr>\n",
              "  </thead>\n",
              "  <tbody>\n",
              "    <tr>\n",
              "      <th>count</th>\n",
              "      <td>9999.000000</td>\n",
              "      <td>9999.000000</td>\n",
              "      <td>9.999000e+03</td>\n",
              "      <td>9999.000000</td>\n",
              "      <td>9999.000000</td>\n",
              "      <td>9999.000000</td>\n",
              "      <td>9999.000000</td>\n",
              "      <td>9999.000000</td>\n",
              "    </tr>\n",
              "    <tr>\n",
              "      <th>mean</th>\n",
              "      <td>35.570857</td>\n",
              "      <td>1.879288</td>\n",
              "      <td>5.668559e+15</td>\n",
              "      <td>1.953595</td>\n",
              "      <td>250862.886289</td>\n",
              "      <td>6.520752</td>\n",
              "      <td>24759.004900</td>\n",
              "      <td>0.010901</td>\n",
              "    </tr>\n",
              "    <tr>\n",
              "      <th>std</th>\n",
              "      <td>8.747060</td>\n",
              "      <td>0.869874</td>\n",
              "      <td>2.473714e+15</td>\n",
              "      <td>0.878294</td>\n",
              "      <td>268732.781334</td>\n",
              "      <td>3.436001</td>\n",
              "      <td>14371.783262</td>\n",
              "      <td>0.103843</td>\n",
              "    </tr>\n",
              "    <tr>\n",
              "      <th>min</th>\n",
              "      <td>20.000000</td>\n",
              "      <td>1.000000</td>\n",
              "      <td>1.113918e+15</td>\n",
              "      <td>1.000000</td>\n",
              "      <td>2000.000000</td>\n",
              "      <td>1.000000</td>\n",
              "      <td>103.000000</td>\n",
              "      <td>0.000000</td>\n",
              "    </tr>\n",
              "    <tr>\n",
              "      <th>25%</th>\n",
              "      <td>28.000000</td>\n",
              "      <td>1.000000</td>\n",
              "      <td>3.594219e+15</td>\n",
              "      <td>1.000000</td>\n",
              "      <td>35000.000000</td>\n",
              "      <td>4.000000</td>\n",
              "      <td>12316.000000</td>\n",
              "      <td>0.000000</td>\n",
              "    </tr>\n",
              "    <tr>\n",
              "      <th>50%</th>\n",
              "      <td>36.000000</td>\n",
              "      <td>2.000000</td>\n",
              "      <td>5.731980e+15</td>\n",
              "      <td>2.000000</td>\n",
              "      <td>140000.000000</td>\n",
              "      <td>7.000000</td>\n",
              "      <td>24721.000000</td>\n",
              "      <td>0.000000</td>\n",
              "    </tr>\n",
              "    <tr>\n",
              "      <th>75%</th>\n",
              "      <td>43.000000</td>\n",
              "      <td>3.000000</td>\n",
              "      <td>7.815771e+15</td>\n",
              "      <td>3.000000</td>\n",
              "      <td>406000.000000</td>\n",
              "      <td>10.000000</td>\n",
              "      <td>37036.500000</td>\n",
              "      <td>0.000000</td>\n",
              "    </tr>\n",
              "    <tr>\n",
              "      <th>max</th>\n",
              "      <td>50.000000</td>\n",
              "      <td>3.000000</td>\n",
              "      <td>9.999306e+15</td>\n",
              "      <td>3.000000</td>\n",
              "      <td>899000.000000</td>\n",
              "      <td>12.000000</td>\n",
              "      <td>49995.000000</td>\n",
              "      <td>1.000000</td>\n",
              "    </tr>\n",
              "  </tbody>\n",
              "</table>\n",
              "</div>"
            ],
            "text/plain": [
              "             Idade          Seg  ...  Valor_Transacao        Class\n",
              "count  9999.000000  9999.000000  ...      9999.000000  9999.000000\n",
              "mean     35.570857     1.879288  ...     24759.004900     0.010901\n",
              "std       8.747060     0.869874  ...     14371.783262     0.103843\n",
              "min      20.000000     1.000000  ...       103.000000     0.000000\n",
              "25%      28.000000     1.000000  ...     12316.000000     0.000000\n",
              "50%      36.000000     2.000000  ...     24721.000000     0.000000\n",
              "75%      43.000000     3.000000  ...     37036.500000     0.000000\n",
              "max      50.000000     3.000000  ...     49995.000000     1.000000\n",
              "\n",
              "[8 rows x 8 columns]"
            ]
          },
          "metadata": {
            "tags": []
          },
          "execution_count": 37
        }
      ]
    },
    {
      "cell_type": "markdown",
      "metadata": {
        "id": "9FbM0oE0s6Jf",
        "colab_type": "text"
      },
      "source": [
        "#Visualizações Unimodais\n"
      ]
    },
    {
      "cell_type": "code",
      "metadata": {
        "id": "rSQDM6UgxMh6",
        "colab_type": "code",
        "colab": {}
      },
      "source": [
        "dataset.hist(column='Idade')\n",
        "plt.show()"
      ],
      "execution_count": null,
      "outputs": []
    },
    {
      "cell_type": "code",
      "metadata": {
        "id": "Ugd9hcSDs8Ef",
        "colab_type": "code",
        "colab": {
          "base_uri": "https://localhost:8080/",
          "height": 72
        },
        "outputId": "5712a792-ead5-42c1-ffc6-7ba4b8ef2584"
      },
      "source": [
        "# histogramas\n",
        "dataset.hist(sharex=False, sharey=False, xlabelsize=1, ylabelsize=1, figsize=(12,8))\n",
        "plt.show()"
      ],
      "execution_count": null,
      "outputs": [
        {
          "output_type": "stream",
          "text": [
            "/usr/local/lib/python3.6/dist-packages/pandas/plotting/_matplotlib/tools.py:184: RuntimeWarning: More than 20 figures have been opened. Figures created through the pyplot interface (`matplotlib.pyplot.figure`) are retained until explicitly closed and may consume too much memory. (To control this warning, see the rcParam `figure.max_open_warning`).\n",
            "  fig = plt.figure(**fig_kw)\n"
          ],
          "name": "stderr"
        }
      ]
    },
    {
      "cell_type": "markdown",
      "metadata": {
        "id": "ENvCDmYItx8-",
        "colab_type": "text"
      },
      "source": [
        "A seguir, observaremos a mesma perspectiva dos dados usando gráficos de densidade de distribuição, com o comando dataset.plot. Esta visualização facilita a identificação da distribuição dos dados.\n"
      ]
    },
    {
      "cell_type": "code",
      "metadata": {
        "id": "DP-oiJu6tWg3",
        "colab_type": "code",
        "colab": {
          "base_uri": "https://localhost:8080/",
          "height": 72
        },
        "outputId": "411ae086-9d9a-4ced-95fe-481a88f3c601"
      },
      "source": [
        "# density plots\n",
        "dataset.plot(kind='density', subplots=True, layout=(3,3), sharex=False, legend=True, fontsize=1, figsize=(12,8))\n",
        "plt.show()"
      ],
      "execution_count": null,
      "outputs": [
        {
          "output_type": "stream",
          "text": [
            "/usr/local/lib/python3.6/dist-packages/pandas/plotting/_matplotlib/tools.py:184: RuntimeWarning: More than 20 figures have been opened. Figures created through the pyplot interface (`matplotlib.pyplot.figure`) are retained until explicitly closed and may consume too much memory. (To control this warning, see the rcParam `figure.max_open_warning`).\n",
            "  fig = plt.figure(**fig_kw)\n"
          ],
          "name": "stderr"
        }
      ]
    },
    {
      "cell_type": "code",
      "metadata": {
        "id": "0OV-FBqdujTu",
        "colab_type": "code",
        "colab": {
          "base_uri": "https://localhost:8080/",
          "height": 494
        },
        "outputId": "a4c34999-7555-4a2b-8094-18966b1aa7af"
      },
      "source": [
        "# boxplots\n",
        "dataset.plot(kind = 'box', subplots = True, layout = (3,3), sharex = False, sharey = False, figsize = (12,8))\n",
        "plt.show()"
      ],
      "execution_count": null,
      "outputs": [
        {
          "output_type": "display_data",
          "data": {
            "image/png": "[encoded data removed]",
            "text/plain": [
              "<Figure size 864x576 with 9 Axes>"
            ]
          },
          "metadata": {
            "tags": [],
            "needs_background": "light"
          }
        }
      ]
    },
    {
      "cell_type": "code",
      "metadata": {
        "id": "rNUQcTFtFIfK",
        "colab_type": "code",
        "colab": {
          "base_uri": "https://localhost:8080/",
          "height": 344
        },
        "outputId": "0aa1bda6-01d5-4f6f-d1fa-a3adad31087c"
      },
      "source": [
        "# Matriz de Correlação\n",
        "sns.heatmap(dataset.corr(), annot=True, cmap='RdBu');"
      ],
      "execution_count": null,
      "outputs": [
        {
          "output_type": "display_data",
          "data": {
            "image/png": "[encoded data removed]",
            "text/plain": [
              "<Figure size 432x288 with 2 Axes>"
            ]
          },
          "metadata": {
            "tags": [],
            "needs_background": "light"
          }
        }
      ]
    },
    {
      "cell_type": "markdown",
      "metadata": {
        "id": "8u8fIgF8ucNO",
        "colab_type": "text"
      },
      "source": [
        "Ao visualizar as correlações entre os atributos através da matriz de correlação, verificaremos que existem alguns atributos com uma alta correlação positiva, como cartão família e limite transação."
      ]
    },
    {
      "cell_type": "code",
      "metadata": {
        "id": "rS_2kAyEHPM5",
        "colab_type": "code",
        "colab": {
          "base_uri": "https://localhost:8080/",
          "height": 337
        },
        "outputId": "e9b33665-9739-4e17-ad3d-f43fbb7d08c4"
      },
      "source": [
        "# Correlação de Pearson\n",
        "dataset.corr(method = 'pearson')"
      ],
      "execution_count": null,
      "outputs": [
        {
          "output_type": "execute_result",
          "data": {
            "text/html": [
              "<div>\n",
              "<style scoped>\n",
              "    .dataframe tbody tr th:only-of-type {\n",
              "        vertical-align: middle;\n",
              "    }\n",
              "\n",
              "    .dataframe tbody tr th {\n",
              "        vertical-align: top;\n",
              "    }\n",
              "\n",
              "    .dataframe thead th {\n",
              "        text-align: right;\n",
              "    }\n",
              "</style>\n",
              "<table border=\"1\" class=\"dataframe\">\n",
              "  <thead>\n",
              "    <tr style=\"text-align: right;\">\n",
              "      <th></th>\n",
              "      <th>Idade</th>\n",
              "      <th>Segmento</th>\n",
              "      <th>Numero_Cartao</th>\n",
              "      <th>Cartao_familia</th>\n",
              "      <th>Limite_Credito</th>\n",
              "      <th>Mes_transacao</th>\n",
              "      <th>Valor_Transacao</th>\n",
              "      <th>Limite_Transacao</th>\n",
              "      <th>Class</th>\n",
              "    </tr>\n",
              "  </thead>\n",
              "  <tbody>\n",
              "    <tr>\n",
              "      <th>Idade</th>\n",
              "      <td>1.000000</td>\n",
              "      <td>0.029432</td>\n",
              "      <td>-0.008675</td>\n",
              "      <td>0.062829</td>\n",
              "      <td>-0.012845</td>\n",
              "      <td>0.000827</td>\n",
              "      <td>-0.001731</td>\n",
              "      <td>0.044682</td>\n",
              "      <td>-0.006521</td>\n",
              "    </tr>\n",
              "    <tr>\n",
              "      <th>Segmento</th>\n",
              "      <td>0.029432</td>\n",
              "      <td>1.000000</td>\n",
              "      <td>-0.040824</td>\n",
              "      <td>-0.053415</td>\n",
              "      <td>0.023384</td>\n",
              "      <td>0.012467</td>\n",
              "      <td>-0.000245</td>\n",
              "      <td>-0.030475</td>\n",
              "      <td>-0.015327</td>\n",
              "    </tr>\n",
              "    <tr>\n",
              "      <th>Numero_Cartao</th>\n",
              "      <td>-0.008675</td>\n",
              "      <td>-0.040824</td>\n",
              "      <td>1.000000</td>\n",
              "      <td>0.025320</td>\n",
              "      <td>-0.022536</td>\n",
              "      <td>0.003945</td>\n",
              "      <td>-0.007884</td>\n",
              "      <td>0.024621</td>\n",
              "      <td>0.005976</td>\n",
              "    </tr>\n",
              "    <tr>\n",
              "      <th>Cartao_familia</th>\n",
              "      <td>0.062829</td>\n",
              "      <td>-0.053415</td>\n",
              "      <td>0.025320</td>\n",
              "      <td>1.000000</td>\n",
              "      <td>-0.802238</td>\n",
              "      <td>0.016294</td>\n",
              "      <td>0.009018</td>\n",
              "      <td>0.406902</td>\n",
              "      <td>-0.001033</td>\n",
              "    </tr>\n",
              "    <tr>\n",
              "      <th>Limite_Credito</th>\n",
              "      <td>-0.012845</td>\n",
              "      <td>0.023384</td>\n",
              "      <td>-0.022536</td>\n",
              "      <td>-0.802238</td>\n",
              "      <td>1.000000</td>\n",
              "      <td>-0.021843</td>\n",
              "      <td>-0.006677</td>\n",
              "      <td>-0.318216</td>\n",
              "      <td>-0.005713</td>\n",
              "    </tr>\n",
              "    <tr>\n",
              "      <th>Mes_transacao</th>\n",
              "      <td>0.000827</td>\n",
              "      <td>0.012467</td>\n",
              "      <td>0.003945</td>\n",
              "      <td>0.016294</td>\n",
              "      <td>-0.021843</td>\n",
              "      <td>1.000000</td>\n",
              "      <td>0.002866</td>\n",
              "      <td>0.010325</td>\n",
              "      <td>0.000067</td>\n",
              "    </tr>\n",
              "    <tr>\n",
              "      <th>Valor_Transacao</th>\n",
              "      <td>-0.001731</td>\n",
              "      <td>-0.000245</td>\n",
              "      <td>-0.007884</td>\n",
              "      <td>0.009018</td>\n",
              "      <td>-0.006677</td>\n",
              "      <td>0.002866</td>\n",
              "      <td>1.000000</td>\n",
              "      <td>0.235909</td>\n",
              "      <td>0.014975</td>\n",
              "    </tr>\n",
              "    <tr>\n",
              "      <th>Limite_Transacao</th>\n",
              "      <td>0.044682</td>\n",
              "      <td>-0.030475</td>\n",
              "      <td>0.024621</td>\n",
              "      <td>0.406902</td>\n",
              "      <td>-0.318216</td>\n",
              "      <td>0.010325</td>\n",
              "      <td>0.235909</td>\n",
              "      <td>1.000000</td>\n",
              "      <td>0.013415</td>\n",
              "    </tr>\n",
              "    <tr>\n",
              "      <th>Class</th>\n",
              "      <td>-0.006521</td>\n",
              "      <td>-0.015327</td>\n",
              "      <td>0.005976</td>\n",
              "      <td>-0.001033</td>\n",
              "      <td>-0.005713</td>\n",
              "      <td>0.000067</td>\n",
              "      <td>0.014975</td>\n",
              "      <td>0.013415</td>\n",
              "      <td>1.000000</td>\n",
              "    </tr>\n",
              "  </tbody>\n",
              "</table>\n",
              "</div>"
            ],
            "text/plain": [
              "                     Idade  Segmento  ...  Limite_Transacao     Class\n",
              "Idade             1.000000  0.029432  ...          0.044682 -0.006521\n",
              "Segmento          0.029432  1.000000  ...         -0.030475 -0.015327\n",
              "Numero_Cartao    -0.008675 -0.040824  ...          0.024621  0.005976\n",
              "Cartao_familia    0.062829 -0.053415  ...          0.406902 -0.001033\n",
              "Limite_Credito   -0.012845  0.023384  ...         -0.318216 -0.005713\n",
              "Mes_transacao     0.000827  0.012467  ...          0.010325  0.000067\n",
              "Valor_Transacao  -0.001731 -0.000245  ...          0.235909  0.014975\n",
              "Limite_Transacao  0.044682 -0.030475  ...          1.000000  0.013415\n",
              "Class            -0.006521 -0.015327  ...          0.013415  1.000000\n",
              "\n",
              "[9 rows x 9 columns]"
            ]
          },
          "metadata": {
            "tags": []
          },
          "execution_count": 12
        }
      ]
    },
    {
      "cell_type": "code",
      "metadata": {
        "id": "Em6tkOfCC4_-",
        "colab_type": "code",
        "colab": {}
      },
      "source": [
        "# Instalando o pandas profiling (executar apenas na 1a vez - descomente a linha abaixo e execute o bloco de código)\n",
        "#! pip install https://github.com/pandas-profiling/pandas-profiling/archive/master.zip"
      ],
      "execution_count": null,
      "outputs": []
    },
    {
      "cell_type": "code",
      "metadata": {
        "id": "1Apl3J73C-KL",
        "colab_type": "code",
        "colab": {}
      },
      "source": [
        "# geração do report\n",
        "profile = ProfileReport(dataset, title='stonedesafio', html={'style':{'full_width':False}})\n",
        "profile.to_notebook_iframe()"
      ],
      "execution_count": null,
      "outputs": []
    },
    {
      "cell_type": "code",
      "metadata": {
        "id": "MAObV-cdEUI1",
        "colab_type": "code",
        "colab": {
          "base_uri": "https://localhost:8080/",
          "height": 66,
          "referenced_widgets": [
            "526b20f1d40743a7a6d6d2f2431c622f",
            "24357adf78b74d05855088a9478633ac",
            "1b7384eb80f14700a08efd099be56289",
            "b3ddc997f67542bc8556b2ad4b00f1fc",
            "c9c92f2a2730423ca3693838e7ff922f",
            "1cd544ca48f44824b234723f660a0d04",
            "29fd8382e0c4478bad3bc20061a6908d",
            "0c36946805574151844bddc886d792d0"
          ]
        },
        "outputId": "4649b8b6-73db-4fba-b01d-669e9711524f"
      },
      "source": [
        "# exportação do report\n",
        "profile.to_file(output_file=\"stonedesafio.html\")"
      ],
      "execution_count": null,
      "outputs": [
        {
          "output_type": "display_data",
          "data": {
            "application/vnd.jupyter.widget-view+json": {
              "model_id": "526b20f1d40743a7a6d6d2f2431c622f",
              "version_minor": 0,
              "version_major": 2
            },
            "text/plain": [
              "HBox(children=(FloatProgress(value=0.0, description='Export report to file', max=1.0, style=ProgressStyle(desc…"
            ]
          },
          "metadata": {
            "tags": []
          }
        },
        {
          "output_type": "stream",
          "text": [
            "\n"
          ],
          "name": "stdout"
        }
      ]
    },
    {
      "cell_type": "markdown",
      "metadata": {
        "id": "lyFVOlbhHhu3",
        "colab_type": "text"
      },
      "source": [
        "Foi observado que temos dataset desbalanceado. "
      ]
    },
    {
      "cell_type": "markdown",
      "metadata": {
        "id": "lrSe8-v8guhc",
        "colab_type": "text"
      },
      "source": [
        "Em seguida, irei definir uma semente aleatória, e farei a separação dos conjuntos de treino e teste por meio da função train_test_split(), que retornará 4 estruturas de dados: os atributos e classes para o conjunto de teste e os atributos e classes para o conjunto de treino. "
      ]
    },
    {
      "cell_type": "code",
      "metadata": {
        "id": "DvpY_JF3g4T5",
        "colab_type": "code",
        "colab": {}
      },
      "source": [
        "#Separando os atributos e as classes do dataset\n",
        "\n",
        "array = dataset.values\n",
        "\n",
        "X = array[:,0:8]\n",
        "Y = array[:,8]\n",
        "\n",
        "test_size = 0.20\n",
        "\n",
        "seed = 7\n",
        "\n",
        "X_train, X_test, Y_train, Y_test = train_test_split(X, Y,test_size=test_size, random_state=seed)"
      ],
      "execution_count": null,
      "outputs": []
    },
    {
      "cell_type": "markdown",
      "metadata": {
        "id": "pfS5sYVIkE2O",
        "colab_type": "text"
      },
      "source": [
        "#Modelo de classificação "
      ]
    },
    {
      "cell_type": "code",
      "metadata": {
        "id": "vdJ5s6-5kRST",
        "colab_type": "code",
        "colab": {
          "base_uri": "https://localhost:8080/",
          "height": 34
        },
        "outputId": "5d84b231-bcbd-4bc3-9361-bf404c4e3ef3"
      },
      "source": [
        "model = LogisticRegression(solver='liblinear')\n",
        "\n",
        "model.fit(X_train, Y_train)\n",
        "\n",
        "Y_predito = model.predict(X_test)\n",
        "\n",
        "print('Acurácia: %.4f' % accuracy_score(Y_test, Y_predito))\n"
      ],
      "execution_count": null,
      "outputs": [
        {
          "output_type": "stream",
          "text": [
            "Acurácia: 0.9900\n"
          ],
          "name": "stdout"
        }
      ]
    },
    {
      "cell_type": "code",
      "metadata": {
        "id": "rsKbhgx-RfAj",
        "colab_type": "code",
        "colab": {
          "base_uri": "https://localhost:8080/",
          "height": 34
        },
        "outputId": "aea9f917-58ae-499d-dcda-1c7900f2871b"
      },
      "source": [
        "model = KNeighborsClassifier()\n",
        "\n",
        "model.fit(X_train, Y_train)\n",
        "\n",
        "Y_predito = model.predict(X_test)\n",
        "\n",
        "print('Acurácia: %.4f' % accuracy_score(Y_test, Y_predito))"
      ],
      "execution_count": null,
      "outputs": [
        {
          "output_type": "stream",
          "text": [
            "Acurácia: 0.9900\n"
          ],
          "name": "stdout"
        }
      ]
    },
    {
      "cell_type": "markdown",
      "metadata": {
        "id": "u2oSREGMqFUD",
        "colab_type": "text"
      },
      "source": [
        "Acuracia 99% como ja esperado pelo dataset desbalanceado."
      ]
    },
    {
      "cell_type": "markdown",
      "metadata": {
        "id": "VfaoQqX7AH2G",
        "colab_type": "text"
      },
      "source": [
        "#Criação e avaliação de modelos: linha base."
      ]
    },
    {
      "cell_type": "markdown",
      "metadata": {
        "id": "ikL2m5_5AKqj",
        "colab_type": "text"
      },
      "source": [
        "Utilizando a validação cruzada 10-fold.\n",
        "Os modelos criados serão avaliados e comparados a partir da métrica de acurácia. Inicialmente configuram-se os parâmetros de número de folds e métrica de avaliação.\n"
      ]
    },
    {
      "cell_type": "code",
      "metadata": {
        "id": "XTXGeXH5rha2",
        "colab_type": "code",
        "colab": {}
      },
      "source": [
        "# Parâmetros\n",
        "num_folds = 10\n",
        "scoring = 'accuracy'"
      ],
      "execution_count": null,
      "outputs": []
    },
    {
      "cell_type": "code",
      "metadata": {
        "id": "APWUWsXHt2ZG",
        "colab_type": "code",
        "colab": {}
      },
      "source": [
        "# Criação dos modelos\n",
        "models = []\n",
        "models.append(('LR', LogisticRegression(solver='liblinear')))\n",
        "models.append(('KNN', KNeighborsClassifier()))\n",
        "models.append(('CART', DecisionTreeClassifier()))\n",
        "models.append(('NB', GaussianNB()))\n",
        "models.append(('SVM', SVC()))\n",
        "models.append(('AB', AdaBoostClassifier()))\n",
        "models.append(('GBM', GradientBoostingClassifier()))\n",
        "models.append(('RF', RandomForestClassifier(n_estimators=10)))\n",
        "models.append(('ET', ExtraTreesClassifier(n_estimators=10)))"
      ],
      "execution_count": null,
      "outputs": []
    },
    {
      "cell_type": "code",
      "metadata": {
        "id": "NBf_kTLuvI2M",
        "colab_type": "code",
        "colab": {
          "base_uri": "https://localhost:8080/",
          "height": 176
        },
        "outputId": "604dfe5e-3f0f-4b49-94ac-c77957ddb8d0"
      },
      "source": [
        "# Avaliação dos modelos\n",
        "results = []\n",
        "names = []\n",
        "\n",
        "for name, model in models:\n",
        "  \n",
        "   kfold = KFold(n_splits=num_folds)\n",
        "   cv_results = cross_val_score(model, X_train, Y_train, cv=kfold, scoring=scoring)\n",
        "   results.append(cv_results)\n",
        "   names.append(name)\n",
        "   msg = \"%s: %0.4f (%0.4f)\" % (name, cv_results.mean(), cv_results.std())\n",
        "   print(msg)"
      ],
      "execution_count": null,
      "outputs": [
        {
          "output_type": "stream",
          "text": [
            "LR: 0.9889 (0.0037)\n",
            "KNN: 0.9889 (0.0037)\n",
            "CART: 0.9751 (0.0068)\n",
            "NB: 0.9889 (0.0037)\n",
            "SVM: 0.9889 (0.0037)\n",
            "AB: 0.9889 (0.0037)\n",
            "GBM: 0.9852 (0.0040)\n",
            "RF: 0.9885 (0.0034)\n",
            "ET: 0.9867 (0.0029)\n"
          ],
          "name": "stdout"
        }
      ]
    },
    {
      "cell_type": "code",
      "metadata": {
        "id": "74bkGnvJBfQL",
        "colab_type": "code",
        "colab": {
          "base_uri": "https://localhost:8080/",
          "height": 294
        },
        "outputId": "e0857834-c37e-4dc4-b092-df9c7fe8b31e"
      },
      "source": [
        "# Comparação dos modelos\n",
        "fig = plt.figure()\n",
        "fig.suptitle('Comparação dos Modelos')\n",
        "ax = fig.add_subplot(111)\n",
        "plt.boxplot(results)\n",
        "ax.set_xticklabels(names)\n",
        "plt.show()\n"
      ],
      "execution_count": null,
      "outputs": [
        {
          "output_type": "display_data",
          "data": {
            "image/png": "[encoded data removed]",
            "text/plain": [
              "<Figure size 432x288 with 1 Axes>"
            ]
          },
          "metadata": {
            "tags": [],
            "needs_background": "light"
          }
        }
      ]
    },
    {
      "cell_type": "markdown",
      "metadata": {
        "id": "78e9_dpMAmWO",
        "colab_type": "text"
      },
      "source": [
        "Visualizando o gráfico conseguimos ver uma distribuição restrita para o LR, KNN, NB, SVM, AB e RF.\n",
        "\n",
        "Dentre os resultados temos 5 com a mesma e mais alta acurácia: LR, KNN, NB, SVM e AB.\n",
        "\n",
        "Diante de um dataset com \"poucos dados\" e desbalanceado temos uma complexidade maior para achar um bom modelo.\n",
        "\n",
        "Ainda em busca de melhores resultados me aprofundarei mais nos 5 modelos com melhor acurácia.\n"
      ]
    },
    {
      "cell_type": "markdown",
      "metadata": {
        "id": "ZeFfLwl6GcjI",
        "colab_type": "text"
      },
      "source": [
        "#Comparando o desempenho dos modelos com Pipelines - Dados Padronizados e Normalizados"
      ]
    },
    {
      "cell_type": "code",
      "metadata": {
        "id": "YKIXbmVVDozy",
        "colab_type": "code",
        "colab": {
          "base_uri": "https://localhost:8080/",
          "height": 383
        },
        "outputId": "df640694-af58-4250-84dc-df6484a21e2e"
      },
      "source": [
        "# definindo uma seed global\n",
        "np.random.seed(7)\n",
        "# Parâmetros\n",
        "folds = 10\n",
        "scoring = 'accuracy'\n",
        "\n",
        "# Pipelines para padronização do dataset e aplicação do modelo\n",
        "pipelines = []\n",
        "pipelines.append(('ScaledKNN', Pipeline([('Scaler', StandardScaler()),('KNN', KNeighborsClassifier())])))\n",
        "pipelines.append(('ScaledAB', Pipeline([('Scaler', StandardScaler()),('AB', AdaBoostClassifier())])))\n",
        "pipelines.append(('ScaledNB', Pipeline([('Scaler', StandardScaler()),('NB', GaussianNB())])))\n",
        "pipelines.append(('ScaledSVM', Pipeline([('Scaler', StandardScaler()),('SVM', SVC(gamma='auto'))])))\n",
        "pipelines.append(('ScaledLR', Pipeline([('Scaler', StandardScaler()),('LR', LogisticRegression(max_iter=200))])))\n",
        "\n",
        "results = []\n",
        "names = []\n",
        "\n",
        "# Aplicação dos pipelines\n",
        "for name, model in pipelines:\n",
        "  kfold = KFold(n_splits=folds)\n",
        "  cv_results = cross_val_score(model, X_train, Y_train, cv=kfold, scoring=scoring)\n",
        "  results.append(cv_results)\n",
        "  names.append(name)\n",
        "  msg = \"%s: %f (%f)\" % (name, cv_results.mean(), cv_results.std())\n",
        "  print(msg)\n",
        "\n",
        "# boxplot de comparação dos algoritmos\n",
        "fig = plt.figure() \n",
        "fig.suptitle('Comparação da Acurácia dos Algoritmos - StandardScaler') \n",
        "ax = fig.add_subplot(111) \n",
        "plt.boxplot(results) \n",
        "ax.set_xticklabels(names) \n",
        "plt.show()"
      ],
      "execution_count": null,
      "outputs": [
        {
          "output_type": "stream",
          "text": [
            "ScaledKNN: 0.988873 (0.003729)\n",
            "ScaledAB: 0.988873 (0.003729)\n",
            "ScaledNB: 0.988873 (0.003729)\n",
            "ScaledSVM: 0.988873 (0.003729)\n",
            "ScaledLR: 0.988873 (0.003729)\n"
          ],
          "name": "stdout"
        },
        {
          "output_type": "display_data",
          "data": {
            "image/png": "[encoded data removed]",
            "text/plain": [
              "<Figure size 432x288 with 1 Axes>"
            ]
          },
          "metadata": {
            "tags": [],
            "needs_background": "light"
          }
        }
      ]
    },
    {
      "cell_type": "code",
      "metadata": {
        "id": "xZPzlbGFERKL",
        "colab_type": "code",
        "colab": {
          "base_uri": "https://localhost:8080/",
          "height": 383
        },
        "outputId": "e8500e1f-1560-428d-e3ee-7f33634a14c6"
      },
      "source": [
        "# definindo uma seed global\n",
        "np.random.seed(7) \n",
        "folds = 10\n",
        "scoring = 'accuracy'\n",
        "\n",
        "# Pipelines para madronização do dataset e aplicação do modelo\n",
        "pipelines = []\n",
        "pipelines.append(('NormKNN', Pipeline([('MinMaxScaler', MinMaxScaler()),('KNN', KNeighborsClassifier())]))) \n",
        "pipelines.append(('NormAB', Pipeline([('MinMaxScaler', MinMaxScaler()),('AB', AdaBoostClassifier())])))\n",
        "pipelines.append(('NormNB', Pipeline([('MinMaxScaler', MinMaxScaler()),('NB', GaussianNB())])))\n",
        "pipelines.append(('NormSVM', Pipeline([('MinMaxScaler', MinMaxScaler()),('SVM', SVC(gamma='auto'))])))\n",
        "pipelines.append(('NormLR', Pipeline([('MinMaxScaler', MinMaxScaler()),('LR', LogisticRegression(max_iter=200))])))\n",
        "\n",
        "\n",
        "results = []\n",
        "names = []\n",
        "\n",
        "# Aplicação dos pipelines\n",
        "for name, model in pipelines:\n",
        "  kfold = KFold(n_splits=folds)\n",
        "  cv_results = cross_val_score(model, X_train, Y_train, cv=kfold, scoring=scoring)\n",
        "  results.append(cv_results)\n",
        "  names.append(name)\n",
        "  msg = \"%s: %f (%f)\" % (name, cv_results.mean(), cv_results.std())\n",
        "  print(msg)\n",
        "\n",
        "# boxplot de comparação dos algoritmos\n",
        "fig = plt.figure() \n",
        "fig.suptitle('Comparação da Acurácia dos Algoritmos - MinMaxScaler') \n",
        "ax = fig.add_subplot(111) \n",
        "plt.boxplot(results) \n",
        "ax.set_xticklabels(names) \n",
        "plt.show()"
      ],
      "execution_count": null,
      "outputs": [
        {
          "output_type": "stream",
          "text": [
            "NormKNN: 0.988748 (0.003876)\n",
            "NormAB: 0.988873 (0.003729)\n",
            "NormNB: 0.988873 (0.003729)\n",
            "NormSVM: 0.988873 (0.003729)\n",
            "NormLR: 0.988873 (0.003729)\n"
          ],
          "name": "stdout"
        },
        {
          "output_type": "display_data",
          "data": {
            "image/png": "[encoded data removed]",
            "text/plain": [
              "<Figure size 432x288 with 1 Axes>"
            ]
          },
          "metadata": {
            "tags": [],
            "needs_background": "light"
          }
        }
      ]
    },
    {
      "cell_type": "markdown",
      "metadata": {
        "id": "bxPLG1xgHTVu",
        "colab_type": "text"
      },
      "source": [
        "Percebemos que não obtivemos resultados numéricos diferentes utilizando as técnicas de padronização e normalização dos dados, porém o gráfico nos indica que o KNN tem uma distribuição mais próxima de uma distribuição normal. \n",
        "\n",
        "Então irei explorar um pouco mais o KNN na tentativa de um melhor resultado.\n",
        " \n",
        "\n"
      ]
    },
    {
      "cell_type": "code",
      "metadata": {
        "id": "BzH8RfYJ50tL",
        "colab_type": "code",
        "colab": {
          "base_uri": "https://localhost:8080/",
          "height": 461
        },
        "outputId": "34b8a8d5-bf01-43c4-b5a1-5ec29ab8ca1b"
      },
      "source": [
        "# Tuning do KNN\n",
        "\n",
        "k = [1,3,5,7,9,11,13,15]\n",
        "distancias = [\"euclidean\", \"manhattan\", \"minkowski\"]\n",
        "param_grid = dict(n_neighbors=k, metric=distancias)\n",
        "\n",
        "model = KNeighborsClassifier()\n",
        "\n",
        "kfold = KFold(n_splits=num_folds, shuffle=True, random_state=seed)\n",
        "\n",
        "grid = GridSearchCV(estimator=model, param_grid=param_grid, scoring=scoring, cv=kfold)\n",
        "grid_result = grid.fit(X_train, Y_train)\n",
        "print(\"Melhor: %f usando %s\" % (grid_result.best_score_, grid_result.best_params_))\n",
        "\n",
        "means = grid_result.cv_results_['mean_test_score']\n",
        "stds = grid_result.cv_results_['std_test_score']\n",
        "params = grid_result.cv_results_['params']\n",
        "for mean, stdev, param in zip(means, stds, params):\n",
        "   print(\"%f (%f): %r\" % (mean, stdev, param))"
      ],
      "execution_count": null,
      "outputs": [
        {
          "output_type": "stream",
          "text": [
            "Melhor: 0.988873 usando {'metric': 'euclidean', 'n_neighbors': 5}\n",
            "0.979372 (0.003637): {'metric': 'euclidean', 'n_neighbors': 1}\n",
            "0.988373 (0.001862): {'metric': 'euclidean', 'n_neighbors': 3}\n",
            "0.988873 (0.002128): {'metric': 'euclidean', 'n_neighbors': 5}\n",
            "0.988873 (0.002128): {'metric': 'euclidean', 'n_neighbors': 7}\n",
            "0.988873 (0.002128): {'metric': 'euclidean', 'n_neighbors': 9}\n",
            "0.988873 (0.002128): {'metric': 'euclidean', 'n_neighbors': 11}\n",
            "0.988873 (0.002128): {'metric': 'euclidean', 'n_neighbors': 13}\n",
            "0.988873 (0.002128): {'metric': 'euclidean', 'n_neighbors': 15}\n",
            "0.979372 (0.003637): {'metric': 'manhattan', 'n_neighbors': 1}\n",
            "0.988373 (0.001862): {'metric': 'manhattan', 'n_neighbors': 3}\n",
            "0.988873 (0.002128): {'metric': 'manhattan', 'n_neighbors': 5}\n",
            "0.988873 (0.002128): {'metric': 'manhattan', 'n_neighbors': 7}\n",
            "0.988873 (0.002128): {'metric': 'manhattan', 'n_neighbors': 9}\n",
            "0.988873 (0.002128): {'metric': 'manhattan', 'n_neighbors': 11}\n",
            "0.988873 (0.002128): {'metric': 'manhattan', 'n_neighbors': 13}\n",
            "0.988873 (0.002128): {'metric': 'manhattan', 'n_neighbors': 15}\n",
            "0.979372 (0.003637): {'metric': 'minkowski', 'n_neighbors': 1}\n",
            "0.988373 (0.001862): {'metric': 'minkowski', 'n_neighbors': 3}\n",
            "0.988873 (0.002128): {'metric': 'minkowski', 'n_neighbors': 5}\n",
            "0.988873 (0.002128): {'metric': 'minkowski', 'n_neighbors': 7}\n",
            "0.988873 (0.002128): {'metric': 'minkowski', 'n_neighbors': 9}\n",
            "0.988873 (0.002128): {'metric': 'minkowski', 'n_neighbors': 11}\n",
            "0.988873 (0.002128): {'metric': 'minkowski', 'n_neighbors': 13}\n",
            "0.988873 (0.002128): {'metric': 'minkowski', 'n_neighbors': 15}\n"
          ],
          "name": "stdout"
        }
      ]
    },
    {
      "cell_type": "code",
      "metadata": {
        "id": "3jsT4jL3EwAG",
        "colab_type": "code",
        "colab": {
          "base_uri": "https://localhost:8080/",
          "height": 34
        },
        "outputId": "e8ee19d8-ab33-48d7-86f2-d4f255155201"
      },
      "source": [
        "base = KNeighborsClassifier()\n",
        "\n",
        "model = BaggingClassifier(base_estimator=base, random_state=seed) \n",
        "results = cross_val_score(model, X_train, Y_train, cv=kfold)\n",
        "print(results.mean())"
      ],
      "execution_count": null,
      "outputs": [
        {
          "output_type": "stream",
          "text": [
            "0.9888731226533167\n"
          ],
          "name": "stdout"
        }
      ]
    },
    {
      "cell_type": "code",
      "metadata": {
        "id": "uTvN2rbeLlmO",
        "colab_type": "code",
        "colab": {
          "base_uri": "https://localhost:8080/",
          "height": 87
        },
        "outputId": "6e9b6df1-3a70-4da8-8559-72698c40182a"
      },
      "source": [
        "model = KNeighborsClassifier()\n",
        "print(model.get_params)\n",
        "results = cross_val_score(model, X_train, Y_train, cv=kfold, scoring=scoring)\n",
        "print(results.mean())"
      ],
      "execution_count": null,
      "outputs": [
        {
          "output_type": "stream",
          "text": [
            "<bound method BaseEstimator.get_params of KNeighborsClassifier(algorithm='auto', leaf_size=30, metric='minkowski',\n",
            "                     metric_params=None, n_jobs=None, n_neighbors=5, p=2,\n",
            "                     weights='uniform')>\n",
            "0.9888731226533167\n"
          ],
          "name": "stdout"
        }
      ]
    },
    {
      "cell_type": "code",
      "metadata": {
        "id": "wgob6mPVSdAV",
        "colab_type": "code",
        "colab": {
          "base_uri": "https://localhost:8080/",
          "height": 285
        },
        "outputId": "d116f22b-fde7-4cd2-e864-7fdd24cefdac"
      },
      "source": [
        "# definindo uma seed global \n",
        "\n",
        "np.random.seed(7) \n",
        "\n",
        "# padronização os dados de treino\n",
        "scaler = StandardScaler().fit(X_train)\n",
        "rescaledX = scaler.transform(X_train)\n",
        "\n",
        "# criando um modelo com a melhor configuração até o momento\n",
        "model = KNeighborsClassifier(metric='euclidean', n_neighbors=5)\n",
        "model.fit(rescaledX, Y_train)\n",
        "\n",
        "# padronização dos dados de teste\n",
        "rescaledTestX = scaler.transform(X_test)\n",
        "\n",
        "# predição\n",
        "predictions = model.predict(rescaledTestX)\n",
        "\n",
        "# estimando a acurácia no conjunto de teste\n",
        "print(accuracy_score(Y_test, predictions))\n",
        "print(confusion_matrix(Y_test, predictions))\n",
        "print(classification_report(Y_test, predictions))"
      ],
      "execution_count": null,
      "outputs": [
        {
          "output_type": "stream",
          "text": [
            "0.99\n",
            "[[1980    0]\n",
            " [  20    0]]\n",
            "              precision    recall  f1-score   support\n",
            "\n",
            "         0.0       0.99      1.00      0.99      1980\n",
            "         1.0       0.00      0.00      0.00        20\n",
            "\n",
            "    accuracy                           0.99      2000\n",
            "   macro avg       0.49      0.50      0.50      2000\n",
            "weighted avg       0.98      0.99      0.99      2000\n",
            "\n"
          ],
          "name": "stdout"
        },
        {
          "output_type": "stream",
          "text": [
            "/usr/local/lib/python3.6/dist-packages/sklearn/metrics/_classification.py:1272: UndefinedMetricWarning: Precision and F-score are ill-defined and being set to 0.0 in labels with no predicted samples. Use `zero_division` parameter to control this behavior.\n",
            "  _warn_prf(average, modifier, msg_start, len(result))\n"
          ],
          "name": "stderr"
        }
      ]
    }
  ]
}