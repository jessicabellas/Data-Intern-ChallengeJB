{
  "nbformat": 4,
  "nbformat_minor": 0,
  "metadata": {
    "colab": {
      "name": "data-intern-challenge.ipynb",
      "provenance": [],
      "toc_visible": true,
      "authorship_tag": "ABX9TyMpPEZK5ZgAFu3SjM/5w8hL",
      "include_colab_link": true
    },
    "kernelspec": {
      "name": "python3",
      "display_name": "Python 3"
    }
  },
  "cells": [
    {
      "cell_type": "markdown",
      "metadata": {
        "id": "view-in-github",
        "colab_type": "text"
      },
      "source": [
        "<a href=\"https://colab.research.google.com/github/jessicabellas/Test-challenge/blob/master/data_intern_challenge.ipynb\" target=\"_parent\"><img src=\"https://colab.research.google.com/assets/colab-badge.svg\" alt=\"Open In Colab\"/></a>"
      ]
    },
    {
      "cell_type": "markdown",
      "metadata": {
        "id": "mNRPzaNOWbET",
        "colab_type": "text"
      },
      "source": [
        "#Data Intern Challenge\n",
        "\n",
        "This is Conta Stone's data challenge for intern applicants. The objective is to extract and analyze data from a database.\n",
        "\n",
        "\n",
        "##Instructions\n",
        "\n",
        "The solution can be developed using Python, SQL scripts, a BI tool or a combination of those. It must be sent as a compressed .zip folder including all the necessary files or hosted in a public code repository, such as GitHub or GitLab.\n",
        "\n",
        "Access the PostgreSQL database using the following credentials:\n",
        "\n",
        "    host: db-stone.cjepwwjnksng.us-east-1.rds.amazonaws.com\n",
        "    port: 5432\n",
        "    database name: postgres\n",
        "    user: read_only_user\n",
        "    password: banking123\n",
        "\n",
        "The database contains credit card transactional data in 4 tables:\n",
        "\n",
        "    - customers\n",
        "    - cards\n",
        "    - transactions\n",
        "    - frauds\n",
        "\n",
        "1. Extract and analyze the data in the database in order to answer the following questions. Provide a description and/or comments for each solution.\n",
        "\n",
        "\n",
        "    1.1 - What is the average age of the customers in the database?\n",
        "    1.2 - How is the card_family ranked based on the credit_limit given to each card?\n",
        "    1.3 - For the transactions flagged as fraud, what are the ids of the transactions with the highest value?\n",
        "\n",
        "2. Analysis:\n",
        "\n",
        "    Analyze whether or not the fraudulent transactions are somehow associated to the other features of the dataset. Explain your results."
      ]
    },
    {
      "cell_type": "markdown",
      "metadata": {
        "id": "wA3NT9EzXmF_",
        "colab_type": "text"
      },
      "source": [
        "###The first step is to import some libraries."
      ]
    },
    {
      "cell_type": "code",
      "metadata": {
        "id": "3K-pXnSjz-TT",
        "colab_type": "code",
        "colab": {}
      },
      "source": [
        "import pandas as pd\n",
        "from pandas_profiling import ProfileReport\n",
        "import numpy as np\n",
        "import seaborn as sns\n",
        "import psycopg2 \n",
        "import matplotlib.pyplot as plt\n"
      ],
      "execution_count": 170,
      "outputs": []
    },
    {
      "cell_type": "markdown",
      "metadata": {
        "id": "IN2o9CCO9Pyl",
        "colab_type": "text"
      },
      "source": [
        "###Second step is the connection with the database."
      ]
    },
    {
      "cell_type": "code",
      "metadata": {
        "id": "VmyqTCi79qUM",
        "colab_type": "code",
        "colab": {}
      },
      "source": [
        "con = psycopg2.connect(\n",
        "    \n",
        "    host = 'db-stone.cjepwwjnksng.us-east-1.rds.amazonaws.com',\n",
        "    port = '5432',\n",
        "    database =  'postgres',\n",
        "    user= 'read_only_user',\n",
        "    password= 'banking123'\n",
        "    \n",
        ")"
      ],
      "execution_count": 171,
      "outputs": []
    },
    {
      "cell_type": "markdown",
      "metadata": {
        "id": "U9TIo-EK-n5K",
        "colab_type": "text"
      },
      "source": [
        "Now, I'm going to get all the tables in the database."
      ]
    },
    {
      "cell_type": "code",
      "metadata": {
        "id": "PmjnZh_1-nlb",
        "colab_type": "code",
        "colab": {}
      },
      "source": [
        "customers = pd.read_sql('SELECT * FROM customers', con)\n",
        "cards = pd.read_sql('SELECT * FROM cards', con)\n",
        "transactions = pd.read_sql('SELECT * FROM transactions', con)\n",
        "frauds = pd.read_sql('SELECT * FROM frauds', con)\n"
      ],
      "execution_count": 172,
      "outputs": []
    },
    {
      "cell_type": "code",
      "metadata": {
        "id": "lPoURUeYFBw7",
        "colab_type": "code",
        "colab": {
          "base_uri": "https://localhost:8080/",
          "height": 212
        },
        "outputId": "ff450abc-8ea3-453c-f98e-4d37a3ab3b14"
      },
      "source": [
        "customers.info()"
      ],
      "execution_count": 173,
      "outputs": [
        {
          "output_type": "stream",
          "text": [
            "<class 'pandas.core.frame.DataFrame'>\n",
            "RangeIndex: 5674 entries, 0 to 5673\n",
            "Data columns (total 4 columns):\n",
            " #   Column         Non-Null Count  Dtype \n",
            "---  ------         --------------  ----- \n",
            " 0   id             5674 non-null   object\n",
            " 1   age            5674 non-null   int64 \n",
            " 2   segment        5674 non-null   object\n",
            " 3   vintage_group  5674 non-null   object\n",
            "dtypes: int64(1), object(3)\n",
            "memory usage: 177.4+ KB\n"
          ],
          "name": "stdout"
        }
      ]
    },
    {
      "cell_type": "code",
      "metadata": {
        "id": "JmzABXTV_kJ6",
        "colab_type": "code",
        "colab": {
          "base_uri": "https://localhost:8080/",
          "height": 212
        },
        "outputId": "1ad3c565-55e5-4998-df54-f89baf06a26c"
      },
      "source": [
        "cards.info()"
      ],
      "execution_count": null,
      "outputs": [
        {
          "output_type": "stream",
          "text": [
            "<class 'pandas.core.frame.DataFrame'>\n",
            "RangeIndex: 500 entries, 0 to 499\n",
            "Data columns (total 4 columns):\n",
            " #   Column        Non-Null Count  Dtype \n",
            "---  ------        --------------  ----- \n",
            " 0   card_number   500 non-null    object\n",
            " 1   card_family   500 non-null    object\n",
            " 2   credit_limit  500 non-null    int64 \n",
            " 3   customer_id   500 non-null    object\n",
            "dtypes: int64(1), object(3)\n",
            "memory usage: 15.8+ KB\n"
          ],
          "name": "stdout"
        }
      ]
    },
    {
      "cell_type": "code",
      "metadata": {
        "id": "V6xvLIlgFJyC",
        "colab_type": "code",
        "colab": {
          "base_uri": "https://localhost:8080/",
          "height": 230
        },
        "outputId": "c8512740-ee15-46a7-c356-270eee73f4ff"
      },
      "source": [
        "transactions.info()"
      ],
      "execution_count": null,
      "outputs": [
        {
          "output_type": "stream",
          "text": [
            "<class 'pandas.core.frame.DataFrame'>\n",
            "RangeIndex: 10000 entries, 0 to 9999\n",
            "Data columns (total 5 columns):\n",
            " #   Column            Non-Null Count  Dtype \n",
            "---  ------            --------------  ----- \n",
            " 0   id                10000 non-null  object\n",
            " 1   card_number       10000 non-null  object\n",
            " 2   transaction_date  10000 non-null  object\n",
            " 3   value             10000 non-null  int64 \n",
            " 4   segment           10000 non-null  object\n",
            "dtypes: int64(1), object(4)\n",
            "memory usage: 390.8+ KB\n"
          ],
          "name": "stdout"
        }
      ]
    },
    {
      "cell_type": "code",
      "metadata": {
        "id": "6lNlXYvQFPAq",
        "colab_type": "code",
        "colab": {
          "base_uri": "https://localhost:8080/",
          "height": 176
        },
        "outputId": "2d7b3398-b9b7-4d74-910d-39f34cc8eaf1"
      },
      "source": [
        "frauds.info()"
      ],
      "execution_count": null,
      "outputs": [
        {
          "output_type": "stream",
          "text": [
            "<class 'pandas.core.frame.DataFrame'>\n",
            "RangeIndex: 109 entries, 0 to 108\n",
            "Data columns (total 2 columns):\n",
            " #   Column          Non-Null Count  Dtype \n",
            "---  ------          --------------  ----- \n",
            " 0   transaction_id  109 non-null    object\n",
            " 1   fraud_flag      109 non-null    bool  \n",
            "dtypes: bool(1), object(1)\n",
            "memory usage: 1.1+ KB\n"
          ],
          "name": "stdout"
        }
      ]
    },
    {
      "cell_type": "markdown",
      "metadata": {
        "id": "a5VSai-vFZRa",
        "colab_type": "text"
      },
      "source": [
        "### **Question 1.1** - What is the average age of the customers in the database?"
      ]
    },
    {
      "cell_type": "code",
      "metadata": {
        "id": "EsMV0LXsFWQS",
        "colab_type": "code",
        "colab": {
          "base_uri": "https://localhost:8080/",
          "height": 197
        },
        "outputId": "01a99685-dfbb-435f-d1aa-1779511c00c8"
      },
      "source": [
        "customers.head()"
      ],
      "execution_count": null,
      "outputs": [
        {
          "output_type": "execute_result",
          "data": {
            "text/html": [
              "<div>\n",
              "<style scoped>\n",
              "    .dataframe tbody tr th:only-of-type {\n",
              "        vertical-align: middle;\n",
              "    }\n",
              "\n",
              "    .dataframe tbody tr th {\n",
              "        vertical-align: top;\n",
              "    }\n",
              "\n",
              "    .dataframe thead th {\n",
              "        text-align: right;\n",
              "    }\n",
              "</style>\n",
              "<table border=\"1\" class=\"dataframe\">\n",
              "  <thead>\n",
              "    <tr style=\"text-align: right;\">\n",
              "      <th></th>\n",
              "      <th>id</th>\n",
              "      <th>age</th>\n",
              "      <th>segment</th>\n",
              "      <th>vintage_group</th>\n",
              "    </tr>\n",
              "  </thead>\n",
              "  <tbody>\n",
              "    <tr>\n",
              "      <th>0</th>\n",
              "      <td>CC25034</td>\n",
              "      <td>35</td>\n",
              "      <td>Diamond</td>\n",
              "      <td>VG1</td>\n",
              "    </tr>\n",
              "    <tr>\n",
              "      <th>1</th>\n",
              "      <td>CC59625</td>\n",
              "      <td>22</td>\n",
              "      <td>Diamond</td>\n",
              "      <td>VG1</td>\n",
              "    </tr>\n",
              "    <tr>\n",
              "      <th>2</th>\n",
              "      <td>CC69314</td>\n",
              "      <td>33</td>\n",
              "      <td>Diamond</td>\n",
              "      <td>VG1</td>\n",
              "    </tr>\n",
              "    <tr>\n",
              "      <th>3</th>\n",
              "      <td>CC67036</td>\n",
              "      <td>46</td>\n",
              "      <td>Diamond</td>\n",
              "      <td>VG1</td>\n",
              "    </tr>\n",
              "    <tr>\n",
              "      <th>4</th>\n",
              "      <td>CC25597</td>\n",
              "      <td>44</td>\n",
              "      <td>Diamond</td>\n",
              "      <td>VG1</td>\n",
              "    </tr>\n",
              "  </tbody>\n",
              "</table>\n",
              "</div>"
            ],
            "text/plain": [
              "        id  age  segment vintage_group\n",
              "0  CC25034   35  Diamond           VG1\n",
              "1  CC59625   22  Diamond           VG1\n",
              "2  CC69314   33  Diamond           VG1\n",
              "3  CC67036   46  Diamond           VG1\n",
              "4  CC25597   44  Diamond           VG1"
            ]
          },
          "metadata": {
            "tags": []
          },
          "execution_count": 55
        }
      ]
    },
    {
      "cell_type": "code",
      "metadata": {
        "id": "L8CF8RQ5_sAi",
        "colab_type": "code",
        "colab": {
          "base_uri": "https://localhost:8080/",
          "height": 52
        },
        "outputId": "7c0d4fbb-8307-438b-a958-7aea3b04cff2"
      },
      "source": [
        "avg_age = pd.read_sql('SELECT AVG(age) FROM CUSTOMERS', con)\n",
        "print(avg_age)"
      ],
      "execution_count": null,
      "outputs": [
        {
          "output_type": "stream",
          "text": [
            "         avg\n",
            "0  35.059922\n"
          ],
          "name": "stdout"
        }
      ]
    },
    {
      "cell_type": "code",
      "metadata": {
        "id": "_6tDoqPDRKm2",
        "colab_type": "code",
        "colab": {
          "base_uri": "https://localhost:8080/",
          "height": 176
        },
        "outputId": "b1bccfad-a06a-4b6c-c0b2-2a204e91d797"
      },
      "source": [
        "#Double check \n",
        "customers.age.describe()"
      ],
      "execution_count": null,
      "outputs": [
        {
          "output_type": "execute_result",
          "data": {
            "text/plain": [
              "count    5674.000000\n",
              "mean       35.059922\n",
              "std         8.962637\n",
              "min        20.000000\n",
              "25%        27.000000\n",
              "50%        35.000000\n",
              "75%        43.000000\n",
              "max        50.000000\n",
              "Name: age, dtype: float64"
            ]
          },
          "metadata": {
            "tags": []
          },
          "execution_count": 57
        }
      ]
    },
    {
      "cell_type": "code",
      "metadata": {
        "id": "hig2AJQbaYwr",
        "colab_type": "code",
        "colab": {
          "base_uri": "https://localhost:8080/",
          "height": 294
        },
        "outputId": "525fb89c-b8b9-4e00-934d-dad7cddf6b75"
      },
      "source": [
        "plt.title('Histogram of Age')\n",
        "plt.xlabel('Age')\n",
        "plt.ylabel('Number of Customers')\n",
        "plt.hist(customers['age'].values, label='Premium', color='teal', bins=7)\n",
        "plt.show()"
      ],
      "execution_count": null,
      "outputs": [
        {
          "output_type": "display_data",
          "data": {
            "image/png": "[encoded data removed]",
            "text/plain": [
              "<Figure size 432x288 with 1 Axes>"
            ]
          },
          "metadata": {
            "tags": [],
            "needs_background": "light"
          }
        }
      ]
    },
    {
      "cell_type": "markdown",
      "metadata": {
        "id": "UZEEvE9ICTio",
        "colab_type": "text"
      },
      "source": [
        "###**Answer 1.1:**\n",
        "\n",
        "###*The average age of the customers in the database is 35 years old.*"
      ]
    },
    {
      "cell_type": "markdown",
      "metadata": {
        "id": "MFGwy2JaEl9W",
        "colab_type": "text"
      },
      "source": [
        "### **Question 1.2** - How is the card_family ranked based on the credit_limit given to each card?"
      ]
    },
    {
      "cell_type": "code",
      "metadata": {
        "id": "H6Ja21RfCwDf",
        "colab_type": "code",
        "colab": {
          "base_uri": "https://localhost:8080/",
          "height": 347
        },
        "outputId": "b0ea4c8f-4faf-4c51-aabe-1c147f1c5cd5"
      },
      "source": [
        "cards.head(10)"
      ],
      "execution_count": null,
      "outputs": [
        {
          "output_type": "execute_result",
          "data": {
            "text/html": [
              "<div>\n",
              "<style scoped>\n",
              "    .dataframe tbody tr th:only-of-type {\n",
              "        vertical-align: middle;\n",
              "    }\n",
              "\n",
              "    .dataframe tbody tr th {\n",
              "        vertical-align: top;\n",
              "    }\n",
              "\n",
              "    .dataframe thead th {\n",
              "        text-align: right;\n",
              "    }\n",
              "</style>\n",
              "<table border=\"1\" class=\"dataframe\">\n",
              "  <thead>\n",
              "    <tr style=\"text-align: right;\">\n",
              "      <th></th>\n",
              "      <th>card_number</th>\n",
              "      <th>card_family</th>\n",
              "      <th>credit_limit</th>\n",
              "      <th>customer_id</th>\n",
              "    </tr>\n",
              "  </thead>\n",
              "  <tbody>\n",
              "    <tr>\n",
              "      <th>0</th>\n",
              "      <td>8638-5407-3631-8196</td>\n",
              "      <td>Premium</td>\n",
              "      <td>530000</td>\n",
              "      <td>CC67088</td>\n",
              "    </tr>\n",
              "    <tr>\n",
              "      <th>1</th>\n",
              "      <td>7106-4239-7093-1515</td>\n",
              "      <td>Gold</td>\n",
              "      <td>18000</td>\n",
              "      <td>CC12076</td>\n",
              "    </tr>\n",
              "    <tr>\n",
              "      <th>2</th>\n",
              "      <td>6492-5655-8241-3530</td>\n",
              "      <td>Premium</td>\n",
              "      <td>596000</td>\n",
              "      <td>CC97173</td>\n",
              "    </tr>\n",
              "    <tr>\n",
              "      <th>3</th>\n",
              "      <td>2868-5606-5152-5706</td>\n",
              "      <td>Gold</td>\n",
              "      <td>27000</td>\n",
              "      <td>CC55858</td>\n",
              "    </tr>\n",
              "    <tr>\n",
              "      <th>4</th>\n",
              "      <td>1438-6906-2509-8219</td>\n",
              "      <td>Platinum</td>\n",
              "      <td>142000</td>\n",
              "      <td>CC90518</td>\n",
              "    </tr>\n",
              "    <tr>\n",
              "      <th>5</th>\n",
              "      <td>2764-7023-8396-5255</td>\n",
              "      <td>Gold</td>\n",
              "      <td>50000</td>\n",
              "      <td>CC49168</td>\n",
              "    </tr>\n",
              "    <tr>\n",
              "      <th>6</th>\n",
              "      <td>4864-7119-5608-7611</td>\n",
              "      <td>Premium</td>\n",
              "      <td>781000</td>\n",
              "      <td>CC66746</td>\n",
              "    </tr>\n",
              "    <tr>\n",
              "      <th>7</th>\n",
              "      <td>5160-8427-6529-3274</td>\n",
              "      <td>Premium</td>\n",
              "      <td>490000</td>\n",
              "      <td>CC28930</td>\n",
              "    </tr>\n",
              "    <tr>\n",
              "      <th>8</th>\n",
              "      <td>6691-5105-1556-4131</td>\n",
              "      <td>Premium</td>\n",
              "      <td>640000</td>\n",
              "      <td>CC76766</td>\n",
              "    </tr>\n",
              "    <tr>\n",
              "      <th>9</th>\n",
              "      <td>1481-2536-2178-7547</td>\n",
              "      <td>Premium</td>\n",
              "      <td>653000</td>\n",
              "      <td>CC18007</td>\n",
              "    </tr>\n",
              "  </tbody>\n",
              "</table>\n",
              "</div>"
            ],
            "text/plain": [
              "           card_number card_family  credit_limit customer_id\n",
              "0  8638-5407-3631-8196     Premium        530000     CC67088\n",
              "1  7106-4239-7093-1515        Gold         18000     CC12076\n",
              "2  6492-5655-8241-3530     Premium        596000     CC97173\n",
              "3  2868-5606-5152-5706        Gold         27000     CC55858\n",
              "4  1438-6906-2509-8219    Platinum        142000     CC90518\n",
              "5  2764-7023-8396-5255        Gold         50000     CC49168\n",
              "6  4864-7119-5608-7611     Premium        781000     CC66746\n",
              "7  5160-8427-6529-3274     Premium        490000     CC28930\n",
              "8  6691-5105-1556-4131     Premium        640000     CC76766\n",
              "9  1481-2536-2178-7547     Premium        653000     CC18007"
            ]
          },
          "metadata": {
            "tags": []
          },
          "execution_count": 71
        }
      ]
    },
    {
      "cell_type": "code",
      "metadata": {
        "id": "2xxpYK4jHoXD",
        "colab_type": "code",
        "colab": {
          "base_uri": "https://localhost:8080/",
          "height": 197
        },
        "outputId": "ca7449ca-42f5-41fb-bf94-53aba58a2813"
      },
      "source": [
        "cards[['card_family','credit_limit']].groupby('card_family').describe()"
      ],
      "execution_count": null,
      "outputs": [
        {
          "output_type": "execute_result",
          "data": {
            "text/html": [
              "<div>\n",
              "<style scoped>\n",
              "    .dataframe tbody tr th:only-of-type {\n",
              "        vertical-align: middle;\n",
              "    }\n",
              "\n",
              "    .dataframe tbody tr th {\n",
              "        vertical-align: top;\n",
              "    }\n",
              "\n",
              "    .dataframe thead tr th {\n",
              "        text-align: left;\n",
              "    }\n",
              "\n",
              "    .dataframe thead tr:last-of-type th {\n",
              "        text-align: right;\n",
              "    }\n",
              "</style>\n",
              "<table border=\"1\" class=\"dataframe\">\n",
              "  <thead>\n",
              "    <tr>\n",
              "      <th></th>\n",
              "      <th colspan=\"8\" halign=\"left\">credit_limit</th>\n",
              "    </tr>\n",
              "    <tr>\n",
              "      <th></th>\n",
              "      <th>count</th>\n",
              "      <th>mean</th>\n",
              "      <th>std</th>\n",
              "      <th>min</th>\n",
              "      <th>25%</th>\n",
              "      <th>50%</th>\n",
              "      <th>75%</th>\n",
              "      <th>max</th>\n",
              "    </tr>\n",
              "    <tr>\n",
              "      <th>card_family</th>\n",
              "      <th></th>\n",
              "      <th></th>\n",
              "      <th></th>\n",
              "      <th></th>\n",
              "      <th></th>\n",
              "      <th></th>\n",
              "      <th></th>\n",
              "      <th></th>\n",
              "    </tr>\n",
              "  </thead>\n",
              "  <tbody>\n",
              "    <tr>\n",
              "      <th>Gold</th>\n",
              "      <td>181.0</td>\n",
              "      <td>27878.453039</td>\n",
              "      <td>13495.127921</td>\n",
              "      <td>2000.0</td>\n",
              "      <td>17000.0</td>\n",
              "      <td>28000.0</td>\n",
              "      <td>38000.0</td>\n",
              "      <td>50000.0</td>\n",
              "    </tr>\n",
              "    <tr>\n",
              "      <th>Platinum</th>\n",
              "      <td>112.0</td>\n",
              "      <td>131294.642857</td>\n",
              "      <td>43272.369811</td>\n",
              "      <td>51000.0</td>\n",
              "      <td>101500.0</td>\n",
              "      <td>136500.0</td>\n",
              "      <td>166250.0</td>\n",
              "      <td>200000.0</td>\n",
              "    </tr>\n",
              "    <tr>\n",
              "      <th>Premium</th>\n",
              "      <td>207.0</td>\n",
              "      <td>514763.285024</td>\n",
              "      <td>232013.740397</td>\n",
              "      <td>108000.0</td>\n",
              "      <td>325000.0</td>\n",
              "      <td>516000.0</td>\n",
              "      <td>710000.0</td>\n",
              "      <td>899000.0</td>\n",
              "    </tr>\n",
              "  </tbody>\n",
              "</table>\n",
              "</div>"
            ],
            "text/plain": [
              "            credit_limit                 ...                    \n",
              "                   count           mean  ...       75%       max\n",
              "card_family                              ...                    \n",
              "Gold               181.0   27878.453039  ...   38000.0   50000.0\n",
              "Platinum           112.0  131294.642857  ...  166250.0  200000.0\n",
              "Premium            207.0  514763.285024  ...  710000.0  899000.0\n",
              "\n",
              "[3 rows x 8 columns]"
            ]
          },
          "metadata": {
            "tags": []
          },
          "execution_count": 72
        }
      ]
    },
    {
      "cell_type": "code",
      "metadata": {
        "id": "qDzJlYFHHrpg",
        "colab_type": "code",
        "colab": {
          "base_uri": "https://localhost:8080/",
          "height": 294
        },
        "outputId": "c3a7cfd9-3e1e-40e9-e763-e703578516f0"
      },
      "source": [
        "plt.title('Histogram of Credit limit')\n",
        "plt.xlabel('Credit limit')\n",
        "plt.ylabel('Number of cards')\n",
        "plt.hist(cards[cards.card_family == 'Premium']['credit_limit'].values, label='Premium', color='goldenrod')\n",
        "plt.hist(cards[cards.card_family == 'Platinum']['credit_limit'].values, label='Platinum', color='gray')\n",
        "plt.hist(cards[cards.card_family == 'Gold']['credit_limit'].values, label='Gold', color='peru')\n",
        "plt.legend()\n",
        "plt.show()"
      ],
      "execution_count": null,
      "outputs": [
        {
          "output_type": "display_data",
          "data": {
            "image/png": "[encoded data removed]",
            "text/plain": [
              "<Figure size 432x288 with 1 Axes>"
            ]
          },
          "metadata": {
            "tags": [],
            "needs_background": "light"
          }
        }
      ]
    },
    {
      "cell_type": "markdown",
      "metadata": {
        "id": "vpMe437YZx4_",
        "colab_type": "text"
      },
      "source": [
        "###**Answer 1.2**:\n",
        "\n",
        "###The ranking of th card_family based on the credit_limit is Gold - Platinum - Premium in ascending order."
      ]
    },
    {
      "cell_type": "markdown",
      "metadata": {
        "id": "4cWQfL7OYP5F",
        "colab_type": "text"
      },
      "source": [
        "###**Question 1.3:** \n",
        "### - For the transactions flagged as fraud, what are the ids of the transactions with the highest value?"
      ]
    },
    {
      "cell_type": "code",
      "metadata": {
        "id": "TnvDIEZRZ09H",
        "colab_type": "code",
        "colab": {
          "base_uri": "https://localhost:8080/",
          "height": 197
        },
        "outputId": "959036ac-cce5-4e38-f5a3-9924f7d82bbf"
      },
      "source": [
        "frauds.head()"
      ],
      "execution_count": null,
      "outputs": [
        {
          "output_type": "execute_result",
          "data": {
            "text/html": [
              "<div>\n",
              "<style scoped>\n",
              "    .dataframe tbody tr th:only-of-type {\n",
              "        vertical-align: middle;\n",
              "    }\n",
              "\n",
              "    .dataframe tbody tr th {\n",
              "        vertical-align: top;\n",
              "    }\n",
              "\n",
              "    .dataframe thead th {\n",
              "        text-align: right;\n",
              "    }\n",
              "</style>\n",
              "<table border=\"1\" class=\"dataframe\">\n",
              "  <thead>\n",
              "    <tr style=\"text-align: right;\">\n",
              "      <th></th>\n",
              "      <th>transaction_id</th>\n",
              "      <th>fraud_flag</th>\n",
              "    </tr>\n",
              "  </thead>\n",
              "  <tbody>\n",
              "    <tr>\n",
              "      <th>0</th>\n",
              "      <td>CTID50558449</td>\n",
              "      <td>True</td>\n",
              "    </tr>\n",
              "    <tr>\n",
              "      <th>1</th>\n",
              "      <td>CTID55936882</td>\n",
              "      <td>True</td>\n",
              "    </tr>\n",
              "    <tr>\n",
              "      <th>2</th>\n",
              "      <td>CTID63762180</td>\n",
              "      <td>True</td>\n",
              "    </tr>\n",
              "    <tr>\n",
              "      <th>3</th>\n",
              "      <td>CTID76723439</td>\n",
              "      <td>True</td>\n",
              "    </tr>\n",
              "    <tr>\n",
              "      <th>4</th>\n",
              "      <td>CTID21246201</td>\n",
              "      <td>True</td>\n",
              "    </tr>\n",
              "  </tbody>\n",
              "</table>\n",
              "</div>"
            ],
            "text/plain": [
              "  transaction_id  fraud_flag\n",
              "0   CTID50558449        True\n",
              "1   CTID55936882        True\n",
              "2   CTID63762180        True\n",
              "3   CTID76723439        True\n",
              "4   CTID21246201        True"
            ]
          },
          "metadata": {
            "tags": []
          },
          "execution_count": 74
        }
      ]
    },
    {
      "cell_type": "code",
      "metadata": {
        "id": "Tx3p8Z29awiw",
        "colab_type": "code",
        "colab": {
          "base_uri": "https://localhost:8080/",
          "height": 197
        },
        "outputId": "94c0d75d-f6d6-402d-b2ab-ae841d07ca89"
      },
      "source": [
        "transactions.head()"
      ],
      "execution_count": null,
      "outputs": [
        {
          "output_type": "execute_result",
          "data": {
            "text/html": [
              "<div>\n",
              "<style scoped>\n",
              "    .dataframe tbody tr th:only-of-type {\n",
              "        vertical-align: middle;\n",
              "    }\n",
              "\n",
              "    .dataframe tbody tr th {\n",
              "        vertical-align: top;\n",
              "    }\n",
              "\n",
              "    .dataframe thead th {\n",
              "        text-align: right;\n",
              "    }\n",
              "</style>\n",
              "<table border=\"1\" class=\"dataframe\">\n",
              "  <thead>\n",
              "    <tr style=\"text-align: right;\">\n",
              "      <th></th>\n",
              "      <th>id</th>\n",
              "      <th>card_number</th>\n",
              "      <th>transaction_date</th>\n",
              "      <th>value</th>\n",
              "      <th>segment</th>\n",
              "    </tr>\n",
              "  </thead>\n",
              "  <tbody>\n",
              "    <tr>\n",
              "      <th>0</th>\n",
              "      <td>CTID28830551</td>\n",
              "      <td>1629-9566-3285-2123</td>\n",
              "      <td>2016-04-24</td>\n",
              "      <td>23649</td>\n",
              "      <td>SEG25</td>\n",
              "    </tr>\n",
              "    <tr>\n",
              "      <th>1</th>\n",
              "      <td>CTID45504917</td>\n",
              "      <td>3697-6001-4909-5350</td>\n",
              "      <td>2016-02-11</td>\n",
              "      <td>26726</td>\n",
              "      <td>SEG16</td>\n",
              "    </tr>\n",
              "    <tr>\n",
              "      <th>2</th>\n",
              "      <td>CTID47312290</td>\n",
              "      <td>5864-4475-3659-1440</td>\n",
              "      <td>2016-11-01</td>\n",
              "      <td>22012</td>\n",
              "      <td>SEG14</td>\n",
              "    </tr>\n",
              "    <tr>\n",
              "      <th>3</th>\n",
              "      <td>CTID25637718</td>\n",
              "      <td>5991-4421-8476-3804</td>\n",
              "      <td>2016-01-28</td>\n",
              "      <td>37637</td>\n",
              "      <td>SEG17</td>\n",
              "    </tr>\n",
              "    <tr>\n",
              "      <th>4</th>\n",
              "      <td>CTID66743960</td>\n",
              "      <td>1893-8853-9900-8478</td>\n",
              "      <td>2016-03-17</td>\n",
              "      <td>5113</td>\n",
              "      <td>SEG14</td>\n",
              "    </tr>\n",
              "  </tbody>\n",
              "</table>\n",
              "</div>"
            ],
            "text/plain": [
              "             id          card_number transaction_date  value segment\n",
              "0  CTID28830551  1629-9566-3285-2123       2016-04-24  23649   SEG25\n",
              "1  CTID45504917  3697-6001-4909-5350       2016-02-11  26726   SEG16\n",
              "2  CTID47312290  5864-4475-3659-1440       2016-11-01  22012   SEG14\n",
              "3  CTID25637718  5991-4421-8476-3804       2016-01-28  37637   SEG17\n",
              "4  CTID66743960  1893-8853-9900-8478       2016-03-17   5113   SEG14"
            ]
          },
          "metadata": {
            "tags": []
          },
          "execution_count": 75
        }
      ]
    },
    {
      "cell_type": "markdown",
      "metadata": {
        "id": "wJxkjE2rZ4k4",
        "colab_type": "text"
      },
      "source": [
        "For this question, I'll need to join two tables, they are transaction and frauds."
      ]
    },
    {
      "cell_type": "code",
      "metadata": {
        "id": "KKjMymn7e5Dw",
        "colab_type": "code",
        "colab": {
          "base_uri": "https://localhost:8080/",
          "height": 197
        },
        "outputId": "75f3fd9b-5ec7-42ab-e9af-078d2186ddef"
      },
      "source": [
        "transactions_frauds = frauds.merge(transactions, right_on='id', left_on='transaction_id')\n",
        "transactions_frauds.head()"
      ],
      "execution_count": 174,
      "outputs": [
        {
          "output_type": "execute_result",
          "data": {
            "text/html": [
              "<div>\n",
              "<style scoped>\n",
              "    .dataframe tbody tr th:only-of-type {\n",
              "        vertical-align: middle;\n",
              "    }\n",
              "\n",
              "    .dataframe tbody tr th {\n",
              "        vertical-align: top;\n",
              "    }\n",
              "\n",
              "    .dataframe thead th {\n",
              "        text-align: right;\n",
              "    }\n",
              "</style>\n",
              "<table border=\"1\" class=\"dataframe\">\n",
              "  <thead>\n",
              "    <tr style=\"text-align: right;\">\n",
              "      <th></th>\n",
              "      <th>transaction_id</th>\n",
              "      <th>fraud_flag</th>\n",
              "      <th>id</th>\n",
              "      <th>card_number</th>\n",
              "      <th>transaction_date</th>\n",
              "      <th>value</th>\n",
              "      <th>segment</th>\n",
              "    </tr>\n",
              "  </thead>\n",
              "  <tbody>\n",
              "    <tr>\n",
              "      <th>0</th>\n",
              "      <td>CTID50558449</td>\n",
              "      <td>True</td>\n",
              "      <td>CTID50558449</td>\n",
              "      <td>4246-1369-3659-8804</td>\n",
              "      <td>2016-05-06</td>\n",
              "      <td>6984</td>\n",
              "      <td>SEG23</td>\n",
              "    </tr>\n",
              "    <tr>\n",
              "      <th>1</th>\n",
              "      <td>CTID55936882</td>\n",
              "      <td>True</td>\n",
              "      <td>CTID55936882</td>\n",
              "      <td>1336-9200-1264-2551</td>\n",
              "      <td>2016-11-29</td>\n",
              "      <td>34367</td>\n",
              "      <td>SEG21</td>\n",
              "    </tr>\n",
              "    <tr>\n",
              "      <th>2</th>\n",
              "      <td>CTID63762180</td>\n",
              "      <td>True</td>\n",
              "      <td>CTID63762180</td>\n",
              "      <td>8528-6154-7390-5081</td>\n",
              "      <td>2016-12-05</td>\n",
              "      <td>44550</td>\n",
              "      <td>SEG15</td>\n",
              "    </tr>\n",
              "    <tr>\n",
              "      <th>3</th>\n",
              "      <td>CTID76723439</td>\n",
              "      <td>True</td>\n",
              "      <td>CTID76723439</td>\n",
              "      <td>7908-2695-7391-7499</td>\n",
              "      <td>2016-09-15</td>\n",
              "      <td>48275</td>\n",
              "      <td>SEG16</td>\n",
              "    </tr>\n",
              "    <tr>\n",
              "      <th>4</th>\n",
              "      <td>CTID21246201</td>\n",
              "      <td>True</td>\n",
              "      <td>CTID21246201</td>\n",
              "      <td>2524-4184-5908-6750</td>\n",
              "      <td>2016-02-29</td>\n",
              "      <td>35751</td>\n",
              "      <td>SEG25</td>\n",
              "    </tr>\n",
              "  </tbody>\n",
              "</table>\n",
              "</div>"
            ],
            "text/plain": [
              "  transaction_id  fraud_flag            id  ... transaction_date  value  segment\n",
              "0   CTID50558449        True  CTID50558449  ...       2016-05-06   6984    SEG23\n",
              "1   CTID55936882        True  CTID55936882  ...       2016-11-29  34367    SEG21\n",
              "2   CTID63762180        True  CTID63762180  ...       2016-12-05  44550    SEG15\n",
              "3   CTID76723439        True  CTID76723439  ...       2016-09-15  48275    SEG16\n",
              "4   CTID21246201        True  CTID21246201  ...       2016-02-29  35751    SEG25\n",
              "\n",
              "[5 rows x 7 columns]"
            ]
          },
          "metadata": {
            "tags": []
          },
          "execution_count": 174
        }
      ]
    },
    {
      "cell_type": "code",
      "metadata": {
        "id": "qxC25ICVfgrb",
        "colab_type": "code",
        "colab": {
          "base_uri": "https://localhost:8080/",
          "height": 77
        },
        "outputId": "d4ed5ada-b3f8-4d52-cae2-dda987608645"
      },
      "source": [
        "highest_fraud = transactions_frauds[transactions_frauds.value == transactions_frauds.value.max()]\n",
        "highest_fraud"
      ],
      "execution_count": 175,
      "outputs": [
        {
          "output_type": "execute_result",
          "data": {
            "text/html": [
              "<div>\n",
              "<style scoped>\n",
              "    .dataframe tbody tr th:only-of-type {\n",
              "        vertical-align: middle;\n",
              "    }\n",
              "\n",
              "    .dataframe tbody tr th {\n",
              "        vertical-align: top;\n",
              "    }\n",
              "\n",
              "    .dataframe thead th {\n",
              "        text-align: right;\n",
              "    }\n",
              "</style>\n",
              "<table border=\"1\" class=\"dataframe\">\n",
              "  <thead>\n",
              "    <tr style=\"text-align: right;\">\n",
              "      <th></th>\n",
              "      <th>transaction_id</th>\n",
              "      <th>fraud_flag</th>\n",
              "      <th>id</th>\n",
              "      <th>card_number</th>\n",
              "      <th>transaction_date</th>\n",
              "      <th>value</th>\n",
              "      <th>segment</th>\n",
              "    </tr>\n",
              "  </thead>\n",
              "  <tbody>\n",
              "    <tr>\n",
              "      <th>6</th>\n",
              "      <td>CTID20567160</td>\n",
              "      <td>True</td>\n",
              "      <td>CTID20567160</td>\n",
              "      <td>3295-6390-4452-7199</td>\n",
              "      <td>2016-10-08</td>\n",
              "      <td>49155</td>\n",
              "      <td>SEG16</td>\n",
              "    </tr>\n",
              "  </tbody>\n",
              "</table>\n",
              "</div>"
            ],
            "text/plain": [
              "  transaction_id  fraud_flag            id  ... transaction_date  value  segment\n",
              "6   CTID20567160        True  CTID20567160  ...       2016-10-08  49155    SEG16\n",
              "\n",
              "[1 rows x 7 columns]"
            ]
          },
          "metadata": {
            "tags": []
          },
          "execution_count": 175
        }
      ]
    },
    {
      "cell_type": "markdown",
      "metadata": {
        "id": "_vYsB1rGDEHN",
        "colab_type": "text"
      },
      "source": [
        "As the usual, a double check. "
      ]
    },
    {
      "cell_type": "code",
      "metadata": {
        "id": "36zILTZ1CSR2",
        "colab_type": "code",
        "colab": {
          "base_uri": "https://localhost:8080/",
          "height": 197
        },
        "outputId": "a0a532b7-b4f0-4f16-c190-6aaf93370f0d"
      },
      "source": [
        "highest_value = pd.read_sql('select * from frauds left join transactions on transactions.id= frauds.transaction_id order by transactions.value desc', con)\n",
        "highest_value.head()"
      ],
      "execution_count": 176,
      "outputs": [
        {
          "output_type": "execute_result",
          "data": {
            "text/html": [
              "<div>\n",
              "<style scoped>\n",
              "    .dataframe tbody tr th:only-of-type {\n",
              "        vertical-align: middle;\n",
              "    }\n",
              "\n",
              "    .dataframe tbody tr th {\n",
              "        vertical-align: top;\n",
              "    }\n",
              "\n",
              "    .dataframe thead th {\n",
              "        text-align: right;\n",
              "    }\n",
              "</style>\n",
              "<table border=\"1\" class=\"dataframe\">\n",
              "  <thead>\n",
              "    <tr style=\"text-align: right;\">\n",
              "      <th></th>\n",
              "      <th>transaction_id</th>\n",
              "      <th>fraud_flag</th>\n",
              "      <th>id</th>\n",
              "      <th>card_number</th>\n",
              "      <th>transaction_date</th>\n",
              "      <th>value</th>\n",
              "      <th>segment</th>\n",
              "    </tr>\n",
              "  </thead>\n",
              "  <tbody>\n",
              "    <tr>\n",
              "      <th>0</th>\n",
              "      <td>CTID20567160</td>\n",
              "      <td>True</td>\n",
              "      <td>CTID20567160</td>\n",
              "      <td>3295-6390-4452-7199</td>\n",
              "      <td>2016-10-08</td>\n",
              "      <td>49155</td>\n",
              "      <td>SEG16</td>\n",
              "    </tr>\n",
              "    <tr>\n",
              "      <th>1</th>\n",
              "      <td>CTID15034243</td>\n",
              "      <td>True</td>\n",
              "      <td>CTID15034243</td>\n",
              "      <td>4562-2665-7578-1931</td>\n",
              "      <td>2016-02-14</td>\n",
              "      <td>48845</td>\n",
              "      <td>SEG19</td>\n",
              "    </tr>\n",
              "    <tr>\n",
              "      <th>2</th>\n",
              "      <td>CTID95884307</td>\n",
              "      <td>True</td>\n",
              "      <td>CTID95884307</td>\n",
              "      <td>2017-7197-7814-9950</td>\n",
              "      <td>2016-11-07</td>\n",
              "      <td>48588</td>\n",
              "      <td>SEG16</td>\n",
              "    </tr>\n",
              "    <tr>\n",
              "      <th>3</th>\n",
              "      <td>CTID54759604</td>\n",
              "      <td>True</td>\n",
              "      <td>CTID54759604</td>\n",
              "      <td>8262-8743-6406-7105</td>\n",
              "      <td>2016-09-07</td>\n",
              "      <td>48567</td>\n",
              "      <td>SEG20</td>\n",
              "    </tr>\n",
              "    <tr>\n",
              "      <th>4</th>\n",
              "      <td>CTID55429304</td>\n",
              "      <td>True</td>\n",
              "      <td>CTID55429304</td>\n",
              "      <td>9030-1667-6058-6173</td>\n",
              "      <td>2016-03-03</td>\n",
              "      <td>48514</td>\n",
              "      <td>SEG15</td>\n",
              "    </tr>\n",
              "  </tbody>\n",
              "</table>\n",
              "</div>"
            ],
            "text/plain": [
              "  transaction_id  fraud_flag            id  ... transaction_date  value  segment\n",
              "0   CTID20567160        True  CTID20567160  ...       2016-10-08  49155    SEG16\n",
              "1   CTID15034243        True  CTID15034243  ...       2016-02-14  48845    SEG19\n",
              "2   CTID95884307        True  CTID95884307  ...       2016-11-07  48588    SEG16\n",
              "3   CTID54759604        True  CTID54759604  ...       2016-09-07  48567    SEG20\n",
              "4   CTID55429304        True  CTID55429304  ...       2016-03-03  48514    SEG15\n",
              "\n",
              "[5 rows x 7 columns]"
            ]
          },
          "metadata": {
            "tags": []
          },
          "execution_count": 176
        }
      ]
    },
    {
      "cell_type": "code",
      "metadata": {
        "id": "cDD6zBUQOsPc",
        "colab_type": "code",
        "colab": {
          "base_uri": "https://localhost:8080/",
          "height": 294
        },
        "outputId": "a4ba4397-0c36-4a64-cf95-ef47175b13f2"
      },
      "source": [
        "plt.title('Histogram of Transactions')\n",
        "plt.xlabel('Value of Transaction')\n",
        "plt.ylabel('Transactions')\n",
        "plt.hist(transactions['value'].values, label='Regular', color='lightgreen', bins=100)\n",
        "plt.hist(transactions_frauds[transactions_frauds.fraud_flag == True]['value'].values, label='Frauds', color='darkred')\n",
        "\n",
        "plt.legend()\n",
        "plt.show()"
      ],
      "execution_count": 177,
      "outputs": [
        {
          "output_type": "display_data",
          "data": {
            "image/png": "[encoded data removed]",
            "text/plain": [
              "<Figure size 432x288 with 1 Axes>"
            ]
          },
          "metadata": {
            "tags": [],
            "needs_background": "light"
          }
        }
      ]
    },
    {
      "cell_type": "markdown",
      "metadata": {
        "id": "6L31nL-0FtZG",
        "colab_type": "text"
      },
      "source": [
        "###**Answer 1.3**:\n",
        "\n",
        "###The Id with the highest transaction value is CTID20567160. "
      ]
    },
    {
      "cell_type": "code",
      "metadata": {
        "id": "IrmRW9v8YB2k",
        "colab_type": "code",
        "colab": {}
      },
      "source": [
        "#closing the connection with the database\n",
        "con.close()"
      ],
      "execution_count": 178,
      "outputs": []
    },
    {
      "cell_type": "markdown",
      "metadata": {
        "id": "FC5VKTTTLnU-",
        "colab_type": "text"
      },
      "source": [
        "###**Question 2:**\n",
        "###Analyze whether or not the fraudulent transactions are somehow associated to the other features of the dataset. Explain your results.\n"
      ]
    },
    {
      "cell_type": "markdown",
      "metadata": {
        "id": "FFl-iA12Y1CL",
        "colab_type": "text"
      },
      "source": [
        "For analyze the fraudulent transactions I'll need to join all the tables."
      ]
    },
    {
      "cell_type": "code",
      "metadata": {
        "id": "hVjYfYQ_Ll_a",
        "colab_type": "code",
        "colab": {
          "base_uri": "https://localhost:8080/",
          "height": 265
        },
        "outputId": "21efb777-6551-475e-cc5a-da7e744b20a9"
      },
      "source": [
        "df_transactions = pd.merge(transactions, frauds, left_on='id', right_on='transaction_id', how='left')\n",
        "df_transactions.info()"
      ],
      "execution_count": 198,
      "outputs": [
        {
          "output_type": "stream",
          "text": [
            "<class 'pandas.core.frame.DataFrame'>\n",
            "Int64Index: 10000 entries, 0 to 9999\n",
            "Data columns (total 7 columns):\n",
            " #   Column            Non-Null Count  Dtype \n",
            "---  ------            --------------  ----- \n",
            " 0   id                10000 non-null  object\n",
            " 1   card_number       10000 non-null  object\n",
            " 2   transaction_date  10000 non-null  object\n",
            " 3   value             10000 non-null  int64 \n",
            " 4   segment           10000 non-null  object\n",
            " 5   transaction_id    109 non-null    object\n",
            " 6   fraud_flag        109 non-null    object\n",
            "dtypes: int64(1), object(6)\n",
            "memory usage: 625.0+ KB\n"
          ],
          "name": "stdout"
        }
      ]
    },
    {
      "cell_type": "code",
      "metadata": {
        "id": "EPT4jxu9JJtG",
        "colab_type": "code",
        "colab": {
          "base_uri": "https://localhost:8080/",
          "height": 283
        },
        "outputId": "dc550799-6ac5-4077-ad79-485b3dd0207b"
      },
      "source": [
        "df_transactions2 = pd.merge(customers, cards, left_on='id', right_on='customer_id', how='inner')\n",
        "df_transactions2.info()\n"
      ],
      "execution_count": 199,
      "outputs": [
        {
          "output_type": "stream",
          "text": [
            "<class 'pandas.core.frame.DataFrame'>\n",
            "Int64Index: 500 entries, 0 to 499\n",
            "Data columns (total 8 columns):\n",
            " #   Column         Non-Null Count  Dtype \n",
            "---  ------         --------------  ----- \n",
            " 0   id             500 non-null    object\n",
            " 1   age            500 non-null    int64 \n",
            " 2   segment        500 non-null    object\n",
            " 3   vintage_group  500 non-null    object\n",
            " 4   card_number    500 non-null    object\n",
            " 5   card_family    500 non-null    object\n",
            " 6   credit_limit   500 non-null    int64 \n",
            " 7   customer_id    500 non-null    object\n",
            "dtypes: int64(2), object(6)\n",
            "memory usage: 35.2+ KB\n"
          ],
          "name": "stdout"
        }
      ]
    },
    {
      "cell_type": "code",
      "metadata": {
        "id": "ZG-2scGwFSK5",
        "colab_type": "code",
        "colab": {
          "base_uri": "https://localhost:8080/",
          "height": 390
        },
        "outputId": "02755a5a-cded-4b13-c09d-30bfb9843807"
      },
      "source": [
        "dataset_transactions = pd.merge(df_transactions, df_transactions2, left_on='card_number', right_on='card_number', how='left')\n",
        "dataset_transactions.info()\n"
      ],
      "execution_count": 200,
      "outputs": [
        {
          "output_type": "stream",
          "text": [
            "<class 'pandas.core.frame.DataFrame'>\n",
            "Int64Index: 10000 entries, 0 to 9999\n",
            "Data columns (total 14 columns):\n",
            " #   Column            Non-Null Count  Dtype \n",
            "---  ------            --------------  ----- \n",
            " 0   id_x              10000 non-null  object\n",
            " 1   card_number       10000 non-null  object\n",
            " 2   transaction_date  10000 non-null  object\n",
            " 3   value             10000 non-null  int64 \n",
            " 4   segment_x         10000 non-null  object\n",
            " 5   transaction_id    109 non-null    object\n",
            " 6   fraud_flag        109 non-null    object\n",
            " 7   id_y              10000 non-null  object\n",
            " 8   age               10000 non-null  int64 \n",
            " 9   segment_y         10000 non-null  object\n",
            " 10  vintage_group     10000 non-null  object\n",
            " 11  card_family       10000 non-null  object\n",
            " 12  credit_limit      10000 non-null  int64 \n",
            " 13  customer_id       10000 non-null  object\n",
            "dtypes: int64(3), object(11)\n",
            "memory usage: 1.1+ MB\n"
          ],
          "name": "stdout"
        }
      ]
    },
    {
      "cell_type": "markdown",
      "metadata": {
        "id": "12FjKjGA8-IS",
        "colab_type": "text"
      },
      "source": [
        "\n",
        "I will exclude the columns that will not be used to analyze the data."
      ]
    },
    {
      "cell_type": "code",
      "metadata": {
        "id": "mwxjlWgRGAZY",
        "colab_type": "code",
        "colab": {}
      },
      "source": [
        "dataset_transactions = dataset_transactions.drop(columns=['id_x', 'id_y', 'card_number', 'transaction_id', 'customer_id'])"
      ],
      "execution_count": 201,
      "outputs": []
    },
    {
      "cell_type": "code",
      "metadata": {
        "id": "jy0Wcl9f-rxJ",
        "colab_type": "code",
        "colab": {
          "base_uri": "https://localhost:8080/",
          "height": 197
        },
        "outputId": "2aeb6509-428f-4a8b-d2ec-c7adcee85d5a"
      },
      "source": [
        "dataset_transactions.head()"
      ],
      "execution_count": 202,
      "outputs": [
        {
          "output_type": "execute_result",
          "data": {
            "text/html": [
              "<div>\n",
              "<style scoped>\n",
              "    .dataframe tbody tr th:only-of-type {\n",
              "        vertical-align: middle;\n",
              "    }\n",
              "\n",
              "    .dataframe tbody tr th {\n",
              "        vertical-align: top;\n",
              "    }\n",
              "\n",
              "    .dataframe thead th {\n",
              "        text-align: right;\n",
              "    }\n",
              "</style>\n",
              "<table border=\"1\" class=\"dataframe\">\n",
              "  <thead>\n",
              "    <tr style=\"text-align: right;\">\n",
              "      <th></th>\n",
              "      <th>transaction_date</th>\n",
              "      <th>value</th>\n",
              "      <th>segment_x</th>\n",
              "      <th>fraud_flag</th>\n",
              "      <th>age</th>\n",
              "      <th>segment_y</th>\n",
              "      <th>vintage_group</th>\n",
              "      <th>card_family</th>\n",
              "      <th>credit_limit</th>\n",
              "    </tr>\n",
              "  </thead>\n",
              "  <tbody>\n",
              "    <tr>\n",
              "      <th>0</th>\n",
              "      <td>2016-04-24</td>\n",
              "      <td>23649</td>\n",
              "      <td>SEG25</td>\n",
              "      <td>NaN</td>\n",
              "      <td>23</td>\n",
              "      <td>Gold</td>\n",
              "      <td>VG3</td>\n",
              "      <td>Platinum</td>\n",
              "      <td>194000</td>\n",
              "    </tr>\n",
              "    <tr>\n",
              "      <th>1</th>\n",
              "      <td>2016-02-11</td>\n",
              "      <td>26726</td>\n",
              "      <td>SEG16</td>\n",
              "      <td>NaN</td>\n",
              "      <td>48</td>\n",
              "      <td>Gold</td>\n",
              "      <td>VG3</td>\n",
              "      <td>Gold</td>\n",
              "      <td>15000</td>\n",
              "    </tr>\n",
              "    <tr>\n",
              "      <th>2</th>\n",
              "      <td>2016-11-01</td>\n",
              "      <td>22012</td>\n",
              "      <td>SEG14</td>\n",
              "      <td>NaN</td>\n",
              "      <td>23</td>\n",
              "      <td>Diamond</td>\n",
              "      <td>VG1</td>\n",
              "      <td>Gold</td>\n",
              "      <td>2000</td>\n",
              "    </tr>\n",
              "    <tr>\n",
              "      <th>3</th>\n",
              "      <td>2016-01-28</td>\n",
              "      <td>37637</td>\n",
              "      <td>SEG17</td>\n",
              "      <td>NaN</td>\n",
              "      <td>44</td>\n",
              "      <td>Platinum</td>\n",
              "      <td>VG2</td>\n",
              "      <td>Gold</td>\n",
              "      <td>19000</td>\n",
              "    </tr>\n",
              "    <tr>\n",
              "      <th>4</th>\n",
              "      <td>2016-03-17</td>\n",
              "      <td>5113</td>\n",
              "      <td>SEG14</td>\n",
              "      <td>NaN</td>\n",
              "      <td>42</td>\n",
              "      <td>Gold</td>\n",
              "      <td>VG3</td>\n",
              "      <td>Premium</td>\n",
              "      <td>417000</td>\n",
              "    </tr>\n",
              "  </tbody>\n",
              "</table>\n",
              "</div>"
            ],
            "text/plain": [
              "  transaction_date  value segment_x  ... vintage_group  card_family credit_limit\n",
              "0       2016-04-24  23649     SEG25  ...           VG3     Platinum       194000\n",
              "1       2016-02-11  26726     SEG16  ...           VG3         Gold        15000\n",
              "2       2016-11-01  22012     SEG14  ...           VG1         Gold         2000\n",
              "3       2016-01-28  37637     SEG17  ...           VG2         Gold        19000\n",
              "4       2016-03-17   5113     SEG14  ...           VG3      Premium       417000\n",
              "\n",
              "[5 rows x 9 columns]"
            ]
          },
          "metadata": {
            "tags": []
          },
          "execution_count": 202
        }
      ]
    },
    {
      "cell_type": "markdown",
      "metadata": {
        "id": "8tyq_LTy8pXd",
        "colab_type": "text"
      },
      "source": [
        "\n",
        "After that I will check if we have missing data."
      ]
    },
    {
      "cell_type": "code",
      "metadata": {
        "id": "9AcUdE4UKqYF",
        "colab_type": "code",
        "colab": {
          "base_uri": "https://localhost:8080/",
          "height": 194
        },
        "outputId": "2de53905-a392-4cb3-bb1a-b710ad3f4935"
      },
      "source": [
        "dataset_transactions.isnull().sum()"
      ],
      "execution_count": 203,
      "outputs": [
        {
          "output_type": "execute_result",
          "data": {
            "text/plain": [
              "transaction_date       0\n",
              "value                  0\n",
              "segment_x              0\n",
              "fraud_flag          9891\n",
              "age                    0\n",
              "segment_y              0\n",
              "vintage_group          0\n",
              "card_family            0\n",
              "credit_limit           0\n",
              "dtype: int64"
            ]
          },
          "metadata": {
            "tags": []
          },
          "execution_count": 203
        }
      ]
    },
    {
      "cell_type": "markdown",
      "metadata": {
        "id": "2QhrPt7u9TpR",
        "colab_type": "text"
      },
      "source": [
        "I will to fill False to the 'NaN' as a non-fraudulent transaction and True for the anothers rows."
      ]
    },
    {
      "cell_type": "code",
      "metadata": {
        "id": "tKLonXHJeaSj",
        "colab_type": "code",
        "colab": {}
      },
      "source": [
        "dataset_transactions['fraud_flag'].fillna(False , inplace=True)"
      ],
      "execution_count": 204,
      "outputs": []
    },
    {
      "cell_type": "code",
      "metadata": {
        "id": "6TIoiz97_D8u",
        "colab_type": "code",
        "colab": {
          "base_uri": "https://localhost:8080/",
          "height": 194
        },
        "outputId": "dd5ec09c-767e-4b80-f01a-5d2b5f620851"
      },
      "source": [
        "dataset_transactions.isnull().sum()"
      ],
      "execution_count": 205,
      "outputs": [
        {
          "output_type": "execute_result",
          "data": {
            "text/plain": [
              "transaction_date    0\n",
              "value               0\n",
              "segment_x           0\n",
              "fraud_flag          0\n",
              "age                 0\n",
              "segment_y           0\n",
              "vintage_group       0\n",
              "card_family         0\n",
              "credit_limit        0\n",
              "dtype: int64"
            ]
          },
          "metadata": {
            "tags": []
          },
          "execution_count": 205
        }
      ]
    },
    {
      "cell_type": "markdown",
      "metadata": {
        "id": "ruxBB4x1_J62",
        "colab_type": "text"
      },
      "source": [
        "I observed in the database and also when I did a first analysis with pandas profiling that the atributtes segment and vintage_group are hight equivalente in the dataset. For that I will check the equivalence."
      ]
    },
    {
      "cell_type": "code",
      "metadata": {
        "id": "SL9zqUbnaCD4",
        "colab_type": "code",
        "colab": {
          "base_uri": "https://localhost:8080/",
          "height": 87
        },
        "outputId": "d1b3ee42-e23d-4b39-83d9-2efeee68495c"
      },
      "source": [
        "dataset_transactions['segment_y'].value_counts()\n"
      ],
      "execution_count": 206,
      "outputs": [
        {
          "output_type": "execute_result",
          "data": {
            "text/plain": [
              "Diamond     4460\n",
              "Gold        3252\n",
              "Platinum    2288\n",
              "Name: segment_y, dtype: int64"
            ]
          },
          "metadata": {
            "tags": []
          },
          "execution_count": 206
        }
      ]
    },
    {
      "cell_type": "code",
      "metadata": {
        "id": "8_3NQvGT6i7n",
        "colab_type": "code",
        "colab": {
          "base_uri": "https://localhost:8080/",
          "height": 87
        },
        "outputId": "efa4e3a4-cecc-4a26-9e7c-8f46c6cc5919"
      },
      "source": [
        "dataset_transactions['vintage_group'].value_counts()"
      ],
      "execution_count": 207,
      "outputs": [
        {
          "output_type": "execute_result",
          "data": {
            "text/plain": [
              "VG1    4460\n",
              "VG3    3252\n",
              "VG2    2288\n",
              "Name: vintage_group, dtype: int64"
            ]
          },
          "metadata": {
            "tags": []
          },
          "execution_count": 207
        }
      ]
    },
    {
      "cell_type": "code",
      "metadata": {
        "id": "ofXsl4Y05mCA",
        "colab_type": "code",
        "colab": {
          "base_uri": "https://localhost:8080/",
          "height": 167
        },
        "outputId": "32184ed2-bc1e-41b1-935f-a98ead2ee69d"
      },
      "source": [
        "dataset_transactions.groupby('segment_y').vintage_group.describe()"
      ],
      "execution_count": 208,
      "outputs": [
        {
          "output_type": "execute_result",
          "data": {
            "text/html": [
              "<div>\n",
              "<style scoped>\n",
              "    .dataframe tbody tr th:only-of-type {\n",
              "        vertical-align: middle;\n",
              "    }\n",
              "\n",
              "    .dataframe tbody tr th {\n",
              "        vertical-align: top;\n",
              "    }\n",
              "\n",
              "    .dataframe thead th {\n",
              "        text-align: right;\n",
              "    }\n",
              "</style>\n",
              "<table border=\"1\" class=\"dataframe\">\n",
              "  <thead>\n",
              "    <tr style=\"text-align: right;\">\n",
              "      <th></th>\n",
              "      <th>count</th>\n",
              "      <th>unique</th>\n",
              "      <th>top</th>\n",
              "      <th>freq</th>\n",
              "    </tr>\n",
              "    <tr>\n",
              "      <th>segment_y</th>\n",
              "      <th></th>\n",
              "      <th></th>\n",
              "      <th></th>\n",
              "      <th></th>\n",
              "    </tr>\n",
              "  </thead>\n",
              "  <tbody>\n",
              "    <tr>\n",
              "      <th>Diamond</th>\n",
              "      <td>4460</td>\n",
              "      <td>1</td>\n",
              "      <td>VG1</td>\n",
              "      <td>4460</td>\n",
              "    </tr>\n",
              "    <tr>\n",
              "      <th>Gold</th>\n",
              "      <td>3252</td>\n",
              "      <td>1</td>\n",
              "      <td>VG3</td>\n",
              "      <td>3252</td>\n",
              "    </tr>\n",
              "    <tr>\n",
              "      <th>Platinum</th>\n",
              "      <td>2288</td>\n",
              "      <td>1</td>\n",
              "      <td>VG2</td>\n",
              "      <td>2288</td>\n",
              "    </tr>\n",
              "  </tbody>\n",
              "</table>\n",
              "</div>"
            ],
            "text/plain": [
              "          count unique  top  freq\n",
              "segment_y                        \n",
              "Diamond    4460      1  VG1  4460\n",
              "Gold       3252      1  VG3  3252\n",
              "Platinum   2288      1  VG2  2288"
            ]
          },
          "metadata": {
            "tags": []
          },
          "execution_count": 208
        }
      ]
    },
    {
      "cell_type": "markdown",
      "metadata": {
        "id": "_57QztJDHduo",
        "colab_type": "text"
      },
      "source": [
        "The atributtes segment and vintage_group are equivalente in the dataset. For this reason I will delete it from my dataset"
      ]
    },
    {
      "cell_type": "code",
      "metadata": {
        "id": "QgZnzP946Ndr",
        "colab_type": "code",
        "colab": {}
      },
      "source": [
        "dataset_transactions = dataset_transactions.drop(columns=['vintage_group'])"
      ],
      "execution_count": 209,
      "outputs": []
    },
    {
      "cell_type": "code",
      "metadata": {
        "id": "pNpiRqosQQ76",
        "colab_type": "code",
        "colab": {
          "base_uri": "https://localhost:8080/",
          "height": 283
        },
        "outputId": "af67b44a-b05e-477e-bf97-54688d5dd300"
      },
      "source": [
        "dataset_transactions.info()"
      ],
      "execution_count": 210,
      "outputs": [
        {
          "output_type": "stream",
          "text": [
            "<class 'pandas.core.frame.DataFrame'>\n",
            "Int64Index: 10000 entries, 0 to 9999\n",
            "Data columns (total 8 columns):\n",
            " #   Column            Non-Null Count  Dtype \n",
            "---  ------            --------------  ----- \n",
            " 0   transaction_date  10000 non-null  object\n",
            " 1   value             10000 non-null  int64 \n",
            " 2   segment_x         10000 non-null  object\n",
            " 3   fraud_flag        10000 non-null  bool  \n",
            " 4   age               10000 non-null  int64 \n",
            " 5   segment_y         10000 non-null  object\n",
            " 6   card_family       10000 non-null  object\n",
            " 7   credit_limit      10000 non-null  int64 \n",
            "dtypes: bool(1), int64(3), object(4)\n",
            "memory usage: 634.8+ KB\n"
          ],
          "name": "stdout"
        }
      ]
    },
    {
      "cell_type": "markdown",
      "metadata": {
        "id": "9Esrle3YDROe",
        "colab_type": "text"
      },
      "source": [
        "For a better comprehension of my dataset, I will rename the segments columns. "
      ]
    },
    {
      "cell_type": "code",
      "metadata": {
        "id": "kBYjdeac6yYa",
        "colab_type": "code",
        "colab": {}
      },
      "source": [
        "dataset_transactions = dataset_transactions.rename(index=str, columns={'segment_y':'customer_seg'})\n",
        "dataset_transactions = dataset_transactions.rename(index=str, columns={'segment_x':'segment'})"
      ],
      "execution_count": 211,
      "outputs": []
    },
    {
      "cell_type": "markdown",
      "metadata": {
        "id": "kVxHqs_G5jNg",
        "colab_type": "text"
      },
      "source": [
        "Now I’ll take the day and month of transactions for the transactions_date attribute."
      ]
    },
    {
      "cell_type": "code",
      "metadata": {
        "id": "aM8fYnElUin6",
        "colab_type": "code",
        "colab": {}
      },
      "source": [
        "dataset_transactions['day'] = dataset_transactions.transaction_date.apply(lambda date: date.day)\n",
        "dataset_transactions['month'] = dataset_transactions.transaction_date.apply(lambda date: date.month)"
      ],
      "execution_count": 212,
      "outputs": []
    },
    {
      "cell_type": "code",
      "metadata": {
        "id": "jjtgNEY1644F",
        "colab_type": "code",
        "colab": {}
      },
      "source": [
        "dataset_transactions = dataset_transactions.drop(columns=['transaction_date'])"
      ],
      "execution_count": 213,
      "outputs": []
    },
    {
      "cell_type": "code",
      "metadata": {
        "id": "X6P0Zj2V7SOo",
        "colab_type": "code",
        "colab": {
          "base_uri": "https://localhost:8080/",
          "height": 197
        },
        "outputId": "74a4ebc7-6f96-498d-a2dd-9965032de7b3"
      },
      "source": [
        "dataset_transactions.head()\n"
      ],
      "execution_count": 214,
      "outputs": [
        {
          "output_type": "execute_result",
          "data": {
            "text/html": [
              "<div>\n",
              "<style scoped>\n",
              "    .dataframe tbody tr th:only-of-type {\n",
              "        vertical-align: middle;\n",
              "    }\n",
              "\n",
              "    .dataframe tbody tr th {\n",
              "        vertical-align: top;\n",
              "    }\n",
              "\n",
              "    .dataframe thead th {\n",
              "        text-align: right;\n",
              "    }\n",
              "</style>\n",
              "<table border=\"1\" class=\"dataframe\">\n",
              "  <thead>\n",
              "    <tr style=\"text-align: right;\">\n",
              "      <th></th>\n",
              "      <th>value</th>\n",
              "      <th>segment</th>\n",
              "      <th>fraud_flag</th>\n",
              "      <th>age</th>\n",
              "      <th>customer_seg</th>\n",
              "      <th>card_family</th>\n",
              "      <th>credit_limit</th>\n",
              "      <th>day</th>\n",
              "      <th>month</th>\n",
              "    </tr>\n",
              "  </thead>\n",
              "  <tbody>\n",
              "    <tr>\n",
              "      <th>0</th>\n",
              "      <td>23649</td>\n",
              "      <td>SEG25</td>\n",
              "      <td>False</td>\n",
              "      <td>23</td>\n",
              "      <td>Gold</td>\n",
              "      <td>Platinum</td>\n",
              "      <td>194000</td>\n",
              "      <td>24</td>\n",
              "      <td>4</td>\n",
              "    </tr>\n",
              "    <tr>\n",
              "      <th>1</th>\n",
              "      <td>26726</td>\n",
              "      <td>SEG16</td>\n",
              "      <td>False</td>\n",
              "      <td>48</td>\n",
              "      <td>Gold</td>\n",
              "      <td>Gold</td>\n",
              "      <td>15000</td>\n",
              "      <td>11</td>\n",
              "      <td>2</td>\n",
              "    </tr>\n",
              "    <tr>\n",
              "      <th>2</th>\n",
              "      <td>22012</td>\n",
              "      <td>SEG14</td>\n",
              "      <td>False</td>\n",
              "      <td>23</td>\n",
              "      <td>Diamond</td>\n",
              "      <td>Gold</td>\n",
              "      <td>2000</td>\n",
              "      <td>1</td>\n",
              "      <td>11</td>\n",
              "    </tr>\n",
              "    <tr>\n",
              "      <th>3</th>\n",
              "      <td>37637</td>\n",
              "      <td>SEG17</td>\n",
              "      <td>False</td>\n",
              "      <td>44</td>\n",
              "      <td>Platinum</td>\n",
              "      <td>Gold</td>\n",
              "      <td>19000</td>\n",
              "      <td>28</td>\n",
              "      <td>1</td>\n",
              "    </tr>\n",
              "    <tr>\n",
              "      <th>4</th>\n",
              "      <td>5113</td>\n",
              "      <td>SEG14</td>\n",
              "      <td>False</td>\n",
              "      <td>42</td>\n",
              "      <td>Gold</td>\n",
              "      <td>Premium</td>\n",
              "      <td>417000</td>\n",
              "      <td>17</td>\n",
              "      <td>3</td>\n",
              "    </tr>\n",
              "  </tbody>\n",
              "</table>\n",
              "</div>"
            ],
            "text/plain": [
              "   value segment  fraud_flag  age  ... card_family credit_limit  day  month\n",
              "0  23649   SEG25       False   23  ...    Platinum       194000   24      4\n",
              "1  26726   SEG16       False   48  ...        Gold        15000   11      2\n",
              "2  22012   SEG14       False   23  ...        Gold         2000    1     11\n",
              "3  37637   SEG17       False   44  ...        Gold        19000   28      1\n",
              "4   5113   SEG14       False   42  ...     Premium       417000   17      3\n",
              "\n",
              "[5 rows x 9 columns]"
            ]
          },
          "metadata": {
            "tags": []
          },
          "execution_count": 214
        }
      ]
    },
    {
      "cell_type": "markdown",
      "metadata": {
        "id": "F3nm40oz8cVg",
        "colab_type": "text"
      },
      "source": [
        "Let's analyze each column with the column fraud_flag."
      ]
    },
    {
      "cell_type": "markdown",
      "metadata": {
        "id": "WyQ52K07HY5Y",
        "colab_type": "text"
      },
      "source": [
        "### Segment"
      ]
    },
    {
      "cell_type": "code",
      "metadata": {
        "id": "HK3w5MNCj47G",
        "colab_type": "code",
        "colab": {}
      },
      "source": [
        "seg = dataset_transactions\n",
        "seg = seg.drop(columns=['credit_limit', 'value', 'age', 'customer_seg', 'card_family', 'credit_limit', 'day','month'])"
      ],
      "execution_count": 216,
      "outputs": []
    },
    {
      "cell_type": "code",
      "metadata": {
        "id": "re-ZXLf6jTI5",
        "colab_type": "code",
        "colab": {
          "base_uri": "https://localhost:8080/",
          "height": 527
        },
        "outputId": "1baba524-4258-4038-820c-3dde34f533ab"
      },
      "source": [
        "seg[seg.fraud_flag == True].groupby('segment').count()"
      ],
      "execution_count": 267,
      "outputs": [
        {
          "output_type": "execute_result",
          "data": {
            "text/html": [
              "<div>\n",
              "<style scoped>\n",
              "    .dataframe tbody tr th:only-of-type {\n",
              "        vertical-align: middle;\n",
              "    }\n",
              "\n",
              "    .dataframe tbody tr th {\n",
              "        vertical-align: top;\n",
              "    }\n",
              "\n",
              "    .dataframe thead th {\n",
              "        text-align: right;\n",
              "    }\n",
              "</style>\n",
              "<table border=\"1\" class=\"dataframe\">\n",
              "  <thead>\n",
              "    <tr style=\"text-align: right;\">\n",
              "      <th></th>\n",
              "      <th>fraud_flag</th>\n",
              "    </tr>\n",
              "    <tr>\n",
              "      <th>segment</th>\n",
              "      <th></th>\n",
              "    </tr>\n",
              "  </thead>\n",
              "  <tbody>\n",
              "    <tr>\n",
              "      <th>SEG11</th>\n",
              "      <td>15</td>\n",
              "    </tr>\n",
              "    <tr>\n",
              "      <th>SEG12</th>\n",
              "      <td>6</td>\n",
              "    </tr>\n",
              "    <tr>\n",
              "      <th>SEG13</th>\n",
              "      <td>4</td>\n",
              "    </tr>\n",
              "    <tr>\n",
              "      <th>SEG14</th>\n",
              "      <td>6</td>\n",
              "    </tr>\n",
              "    <tr>\n",
              "      <th>SEG15</th>\n",
              "      <td>6</td>\n",
              "    </tr>\n",
              "    <tr>\n",
              "      <th>SEG16</th>\n",
              "      <td>8</td>\n",
              "    </tr>\n",
              "    <tr>\n",
              "      <th>SEG17</th>\n",
              "      <td>8</td>\n",
              "    </tr>\n",
              "    <tr>\n",
              "      <th>SEG18</th>\n",
              "      <td>4</td>\n",
              "    </tr>\n",
              "    <tr>\n",
              "      <th>SEG19</th>\n",
              "      <td>3</td>\n",
              "    </tr>\n",
              "    <tr>\n",
              "      <th>SEG20</th>\n",
              "      <td>6</td>\n",
              "    </tr>\n",
              "    <tr>\n",
              "      <th>SEG21</th>\n",
              "      <td>10</td>\n",
              "    </tr>\n",
              "    <tr>\n",
              "      <th>SEG22</th>\n",
              "      <td>9</td>\n",
              "    </tr>\n",
              "    <tr>\n",
              "      <th>SEG23</th>\n",
              "      <td>12</td>\n",
              "    </tr>\n",
              "    <tr>\n",
              "      <th>SEG24</th>\n",
              "      <td>8</td>\n",
              "    </tr>\n",
              "    <tr>\n",
              "      <th>SEG25</th>\n",
              "      <td>4</td>\n",
              "    </tr>\n",
              "  </tbody>\n",
              "</table>\n",
              "</div>"
            ],
            "text/plain": [
              "         fraud_flag\n",
              "segment            \n",
              "SEG11            15\n",
              "SEG12             6\n",
              "SEG13             4\n",
              "SEG14             6\n",
              "SEG15             6\n",
              "SEG16             8\n",
              "SEG17             8\n",
              "SEG18             4\n",
              "SEG19             3\n",
              "SEG20             6\n",
              "SEG21            10\n",
              "SEG22             9\n",
              "SEG23            12\n",
              "SEG24             8\n",
              "SEG25             4"
            ]
          },
          "metadata": {
            "tags": []
          },
          "execution_count": 267
        }
      ]
    },
    {
      "cell_type": "code",
      "metadata": {
        "id": "EIOTF3wn7M0p",
        "colab_type": "code",
        "colab": {
          "base_uri": "https://localhost:8080/",
          "height": 368
        },
        "outputId": "04988866-916b-4f61-f775-9ad1e6bac12c"
      },
      "source": [
        "fig, ax = plt.subplots(1, 1, figsize=(10, 5), squeeze=False)\n",
        "\n",
        "colors = [ 'lightgreen', 'darkred']\n",
        "labels = ['Not flagged', 'Flagged']\n",
        "\n",
        "plt.hist([dataset_transactions[dataset_transactions.fraud_flag == False]['segment'], \n",
        "          dataset_transactions[dataset_transactions.fraud_flag == True]['segment']], \n",
        "          density=True, label=labels, color=colors)\n",
        "\n",
        "plt.title('Histogram of Segment') \n",
        "\n",
        "plt.legend() \n",
        "plt.tight_layout() \n",
        "plt.show()"
      ],
      "execution_count": 218,
      "outputs": [
        {
          "output_type": "display_data",
          "data": {
            "image/png": "[encoded data removed]",
            "text/plain": [
              "<Figure size 720x360 with 1 Axes>"
            ]
          },
          "metadata": {
            "tags": [],
            "needs_background": "light"
          }
        }
      ]
    },
    {
      "cell_type": "markdown",
      "metadata": {
        "id": "xwIdaulLPPEo",
        "colab_type": "text"
      },
      "source": [
        "The graph shows that segments 11 and 22 have a higher percentage of fraudulent transactions than non-fraudulent ones.\n",
        "In turn, segments 19 and 12 have a lower percentage of fraudulent transactions than non-fraudulent ones."
      ]
    },
    {
      "cell_type": "markdown",
      "metadata": {
        "id": "ZuRCAWzwHeSB",
        "colab_type": "text"
      },
      "source": [
        "### Customer_Segment"
      ]
    },
    {
      "cell_type": "code",
      "metadata": {
        "id": "yE7y4R3UljGi",
        "colab_type": "code",
        "colab": {}
      },
      "source": [
        "customer_seg_fraud_flag = dataset_transactions\n",
        "customer_seg_fraud_flag = customer_seg_fraud_flag.drop(columns=['credit_limit', 'day','month', 'value', 'age', 'segment', 'card_family', 'credit_limit'])"
      ],
      "execution_count": 220,
      "outputs": []
    },
    {
      "cell_type": "code",
      "metadata": {
        "id": "8-X60jKBlwvT",
        "colab_type": "code",
        "colab": {
          "base_uri": "https://localhost:8080/",
          "height": 197
        },
        "outputId": "29258bc9-7c81-4291-bb21-04d7f8abe9ce"
      },
      "source": [
        "customer_seg_fraud_flag[customer_seg_fraud_flag.fraud_flag == True].groupby('customer_seg').describe()"
      ],
      "execution_count": 221,
      "outputs": [
        {
          "output_type": "execute_result",
          "data": {
            "text/html": [
              "<div>\n",
              "<style scoped>\n",
              "    .dataframe tbody tr th:only-of-type {\n",
              "        vertical-align: middle;\n",
              "    }\n",
              "\n",
              "    .dataframe tbody tr th {\n",
              "        vertical-align: top;\n",
              "    }\n",
              "\n",
              "    .dataframe thead tr th {\n",
              "        text-align: left;\n",
              "    }\n",
              "\n",
              "    .dataframe thead tr:last-of-type th {\n",
              "        text-align: right;\n",
              "    }\n",
              "</style>\n",
              "<table border=\"1\" class=\"dataframe\">\n",
              "  <thead>\n",
              "    <tr>\n",
              "      <th></th>\n",
              "      <th colspan=\"4\" halign=\"left\">fraud_flag</th>\n",
              "    </tr>\n",
              "    <tr>\n",
              "      <th></th>\n",
              "      <th>count</th>\n",
              "      <th>unique</th>\n",
              "      <th>top</th>\n",
              "      <th>freq</th>\n",
              "    </tr>\n",
              "    <tr>\n",
              "      <th>customer_seg</th>\n",
              "      <th></th>\n",
              "      <th></th>\n",
              "      <th></th>\n",
              "      <th></th>\n",
              "    </tr>\n",
              "  </thead>\n",
              "  <tbody>\n",
              "    <tr>\n",
              "      <th>Diamond</th>\n",
              "      <td>54</td>\n",
              "      <td>1</td>\n",
              "      <td>True</td>\n",
              "      <td>54</td>\n",
              "    </tr>\n",
              "    <tr>\n",
              "      <th>Gold</th>\n",
              "      <td>27</td>\n",
              "      <td>1</td>\n",
              "      <td>True</td>\n",
              "      <td>27</td>\n",
              "    </tr>\n",
              "    <tr>\n",
              "      <th>Platinum</th>\n",
              "      <td>28</td>\n",
              "      <td>1</td>\n",
              "      <td>True</td>\n",
              "      <td>28</td>\n",
              "    </tr>\n",
              "  </tbody>\n",
              "</table>\n",
              "</div>"
            ],
            "text/plain": [
              "             fraud_flag                  \n",
              "                  count unique   top freq\n",
              "customer_seg                             \n",
              "Diamond              54      1  True   54\n",
              "Gold                 27      1  True   27\n",
              "Platinum             28      1  True   28"
            ]
          },
          "metadata": {
            "tags": []
          },
          "execution_count": 221
        }
      ]
    },
    {
      "cell_type": "code",
      "metadata": {
        "id": "EMEgA65X8wdr",
        "colab_type": "code",
        "colab": {
          "base_uri": "https://localhost:8080/",
          "height": 368
        },
        "outputId": "7b0e4980-1b3f-4a4d-e843-254ad31a1a92"
      },
      "source": [
        "fig, ax = plt.subplots(1, 1, figsize=(10, 5), squeeze=False)\n",
        "\n",
        "colors = [ 'lightgreen', 'darkred']\n",
        "labels = ['Not flagged', 'Flagged']\n",
        "\n",
        "plt.hist([dataset_transactions[dataset_transactions.fraud_flag == False]['customer_seg'], \n",
        "          dataset_transactions[dataset_transactions.fraud_flag == True]['customer_seg']], \n",
        "          density=True, label=labels, color=colors)\n",
        "\n",
        "plt.title('Histogram of Segment Customers') \n",
        "\n",
        "plt.legend() \n",
        "plt.tight_layout() \n",
        "plt.show()"
      ],
      "execution_count": 222,
      "outputs": [
        {
          "output_type": "display_data",
          "data": {
            "image/png": "[encoded data removed]",
            "text/plain": [
              "<Figure size 720x360 with 1 Axes>"
            ]
          },
          "metadata": {
            "tags": [],
            "needs_background": "light"
          }
        }
      ]
    },
    {
      "cell_type": "markdown",
      "metadata": {
        "id": "2M7x9QGCTg32",
        "colab_type": "text"
      },
      "source": [
        "The graph shows that the customer_segment Diamond and platinum have a higher percentage of fraudulent transactions than non-fraudulent ones. In turn, customer_segment Gold has a lower percentage of fraudulent transactions compared to non-fraudulent ones.\n"
      ]
    },
    {
      "cell_type": "markdown",
      "metadata": {
        "id": "-59j-aQfHlrj",
        "colab_type": "text"
      },
      "source": [
        "### Card_family"
      ]
    },
    {
      "cell_type": "code",
      "metadata": {
        "id": "J5orM9kHD1bW",
        "colab_type": "code",
        "colab": {
          "base_uri": "https://localhost:8080/",
          "height": 197
        },
        "outputId": "3e0ef366-d5a6-4d59-d248-065eb1aeaf87"
      },
      "source": [
        "card_family_fraud_flag = dataset_transactions\n",
        "card_family_fraud_flag = card_family_fraud_flag.drop(columns=['age', 'value', 'segment', 'customer_seg', \n",
        "                                                              'credit_limit', 'day', 'month'])\n",
        "card_family_fraud_flag[card_family_fraud_flag.fraud_flag == True].groupby('card_family').describe()"
      ],
      "execution_count": 229,
      "outputs": [
        {
          "output_type": "execute_result",
          "data": {
            "text/html": [
              "<div>\n",
              "<style scoped>\n",
              "    .dataframe tbody tr th:only-of-type {\n",
              "        vertical-align: middle;\n",
              "    }\n",
              "\n",
              "    .dataframe tbody tr th {\n",
              "        vertical-align: top;\n",
              "    }\n",
              "\n",
              "    .dataframe thead tr th {\n",
              "        text-align: left;\n",
              "    }\n",
              "\n",
              "    .dataframe thead tr:last-of-type th {\n",
              "        text-align: right;\n",
              "    }\n",
              "</style>\n",
              "<table border=\"1\" class=\"dataframe\">\n",
              "  <thead>\n",
              "    <tr>\n",
              "      <th></th>\n",
              "      <th colspan=\"4\" halign=\"left\">fraud_flag</th>\n",
              "    </tr>\n",
              "    <tr>\n",
              "      <th></th>\n",
              "      <th>count</th>\n",
              "      <th>unique</th>\n",
              "      <th>top</th>\n",
              "      <th>freq</th>\n",
              "    </tr>\n",
              "    <tr>\n",
              "      <th>card_family</th>\n",
              "      <th></th>\n",
              "      <th></th>\n",
              "      <th></th>\n",
              "      <th></th>\n",
              "    </tr>\n",
              "  </thead>\n",
              "  <tbody>\n",
              "    <tr>\n",
              "      <th>Gold</th>\n",
              "      <td>39</td>\n",
              "      <td>1</td>\n",
              "      <td>True</td>\n",
              "      <td>39</td>\n",
              "    </tr>\n",
              "    <tr>\n",
              "      <th>Platinum</th>\n",
              "      <td>25</td>\n",
              "      <td>1</td>\n",
              "      <td>True</td>\n",
              "      <td>25</td>\n",
              "    </tr>\n",
              "    <tr>\n",
              "      <th>Premium</th>\n",
              "      <td>45</td>\n",
              "      <td>1</td>\n",
              "      <td>True</td>\n",
              "      <td>45</td>\n",
              "    </tr>\n",
              "  </tbody>\n",
              "</table>\n",
              "</div>"
            ],
            "text/plain": [
              "            fraud_flag                  \n",
              "                 count unique   top freq\n",
              "card_family                             \n",
              "Gold                39      1  True   39\n",
              "Platinum            25      1  True   25\n",
              "Premium             45      1  True   45"
            ]
          },
          "metadata": {
            "tags": []
          },
          "execution_count": 229
        }
      ]
    },
    {
      "cell_type": "code",
      "metadata": {
        "id": "65oa8lBYEcc6",
        "colab_type": "code",
        "colab": {
          "base_uri": "https://localhost:8080/",
          "height": 368
        },
        "outputId": "c1872884-7eec-4ccf-bd13-5f0c96f0ae78"
      },
      "source": [
        "fig, ax = plt.subplots(1, 1, figsize=(10, 5), squeeze=False)\n",
        "\n",
        "colors = [ 'lightgreen', 'darkred']\n",
        "labels = ['Not flagged', 'Flagged']\n",
        "\n",
        "plt.hist([dataset_transactions[dataset_transactions.fraud_flag == False]['card_family'], \n",
        "          dataset_transactions[dataset_transactions.fraud_flag == True]['card_family']], \n",
        "          density=True, label=labels, color=colors)\n",
        "\n",
        "plt.title('Histogram of Card_family') \n",
        "\n",
        "plt.legend() \n",
        "plt.tight_layout() \n",
        "plt.show()"
      ],
      "execution_count": 230,
      "outputs": [
        {
          "output_type": "display_data",
          "data": {
            "image/png": "[encoded data removed]",
            "text/plain": [
              "<Figure size 720x360 with 1 Axes>"
            ]
          },
          "metadata": {
            "tags": [],
            "needs_background": "light"
          }
        }
      ]
    },
    {
      "cell_type": "markdown",
      "metadata": {
        "id": "9nwqMTE6EqK_",
        "colab_type": "text"
      },
      "source": [
        "The graph shows that card_family has a very close percentage of fraudulent transactions and non-fraudulent transactions."
      ]
    },
    {
      "cell_type": "markdown",
      "metadata": {
        "id": "VXS8uVTtHowr",
        "colab_type": "text"
      },
      "source": [
        "### Age"
      ]
    },
    {
      "cell_type": "code",
      "metadata": {
        "id": "nj6AjwLbl-jY",
        "colab_type": "code",
        "colab": {
          "base_uri": "https://localhost:8080/",
          "height": 1000
        },
        "outputId": "614b84ec-69c1-4328-a364-739f32494c94"
      },
      "source": [
        "age_fraud_flag = dataset_transactions\n",
        "age_fraud_flag = age_fraud_flag.drop(columns=['credit_limit', 'value', 'segment', 'customer_seg', 'card_family', \n",
        "                                               'day', 'month'])\n",
        "age_fraud_flag[age_fraud_flag.fraud_flag == True].groupby('age').describe()"
      ],
      "execution_count": 232,
      "outputs": [
        {
          "output_type": "execute_result",
          "data": {
            "text/html": [
              "<div>\n",
              "<style scoped>\n",
              "    .dataframe tbody tr th:only-of-type {\n",
              "        vertical-align: middle;\n",
              "    }\n",
              "\n",
              "    .dataframe tbody tr th {\n",
              "        vertical-align: top;\n",
              "    }\n",
              "\n",
              "    .dataframe thead tr th {\n",
              "        text-align: left;\n",
              "    }\n",
              "\n",
              "    .dataframe thead tr:last-of-type th {\n",
              "        text-align: right;\n",
              "    }\n",
              "</style>\n",
              "<table border=\"1\" class=\"dataframe\">\n",
              "  <thead>\n",
              "    <tr>\n",
              "      <th></th>\n",
              "      <th colspan=\"4\" halign=\"left\">fraud_flag</th>\n",
              "    </tr>\n",
              "    <tr>\n",
              "      <th></th>\n",
              "      <th>count</th>\n",
              "      <th>unique</th>\n",
              "      <th>top</th>\n",
              "      <th>freq</th>\n",
              "    </tr>\n",
              "    <tr>\n",
              "      <th>age</th>\n",
              "      <th></th>\n",
              "      <th></th>\n",
              "      <th></th>\n",
              "      <th></th>\n",
              "    </tr>\n",
              "  </thead>\n",
              "  <tbody>\n",
              "    <tr>\n",
              "      <th>20</th>\n",
              "      <td>2</td>\n",
              "      <td>1</td>\n",
              "      <td>True</td>\n",
              "      <td>2</td>\n",
              "    </tr>\n",
              "    <tr>\n",
              "      <th>21</th>\n",
              "      <td>1</td>\n",
              "      <td>1</td>\n",
              "      <td>True</td>\n",
              "      <td>1</td>\n",
              "    </tr>\n",
              "    <tr>\n",
              "      <th>22</th>\n",
              "      <td>5</td>\n",
              "      <td>1</td>\n",
              "      <td>True</td>\n",
              "      <td>5</td>\n",
              "    </tr>\n",
              "    <tr>\n",
              "      <th>23</th>\n",
              "      <td>4</td>\n",
              "      <td>1</td>\n",
              "      <td>True</td>\n",
              "      <td>4</td>\n",
              "    </tr>\n",
              "    <tr>\n",
              "      <th>24</th>\n",
              "      <td>5</td>\n",
              "      <td>1</td>\n",
              "      <td>True</td>\n",
              "      <td>5</td>\n",
              "    </tr>\n",
              "    <tr>\n",
              "      <th>25</th>\n",
              "      <td>2</td>\n",
              "      <td>1</td>\n",
              "      <td>True</td>\n",
              "      <td>2</td>\n",
              "    </tr>\n",
              "    <tr>\n",
              "      <th>26</th>\n",
              "      <td>3</td>\n",
              "      <td>1</td>\n",
              "      <td>True</td>\n",
              "      <td>3</td>\n",
              "    </tr>\n",
              "    <tr>\n",
              "      <th>27</th>\n",
              "      <td>3</td>\n",
              "      <td>1</td>\n",
              "      <td>True</td>\n",
              "      <td>3</td>\n",
              "    </tr>\n",
              "    <tr>\n",
              "      <th>28</th>\n",
              "      <td>1</td>\n",
              "      <td>1</td>\n",
              "      <td>True</td>\n",
              "      <td>1</td>\n",
              "    </tr>\n",
              "    <tr>\n",
              "      <th>29</th>\n",
              "      <td>5</td>\n",
              "      <td>1</td>\n",
              "      <td>True</td>\n",
              "      <td>5</td>\n",
              "    </tr>\n",
              "    <tr>\n",
              "      <th>30</th>\n",
              "      <td>7</td>\n",
              "      <td>1</td>\n",
              "      <td>True</td>\n",
              "      <td>7</td>\n",
              "    </tr>\n",
              "    <tr>\n",
              "      <th>31</th>\n",
              "      <td>4</td>\n",
              "      <td>1</td>\n",
              "      <td>True</td>\n",
              "      <td>4</td>\n",
              "    </tr>\n",
              "    <tr>\n",
              "      <th>32</th>\n",
              "      <td>5</td>\n",
              "      <td>1</td>\n",
              "      <td>True</td>\n",
              "      <td>5</td>\n",
              "    </tr>\n",
              "    <tr>\n",
              "      <th>33</th>\n",
              "      <td>4</td>\n",
              "      <td>1</td>\n",
              "      <td>True</td>\n",
              "      <td>4</td>\n",
              "    </tr>\n",
              "    <tr>\n",
              "      <th>34</th>\n",
              "      <td>2</td>\n",
              "      <td>1</td>\n",
              "      <td>True</td>\n",
              "      <td>2</td>\n",
              "    </tr>\n",
              "    <tr>\n",
              "      <th>35</th>\n",
              "      <td>4</td>\n",
              "      <td>1</td>\n",
              "      <td>True</td>\n",
              "      <td>4</td>\n",
              "    </tr>\n",
              "    <tr>\n",
              "      <th>36</th>\n",
              "      <td>3</td>\n",
              "      <td>1</td>\n",
              "      <td>True</td>\n",
              "      <td>3</td>\n",
              "    </tr>\n",
              "    <tr>\n",
              "      <th>37</th>\n",
              "      <td>3</td>\n",
              "      <td>1</td>\n",
              "      <td>True</td>\n",
              "      <td>3</td>\n",
              "    </tr>\n",
              "    <tr>\n",
              "      <th>38</th>\n",
              "      <td>3</td>\n",
              "      <td>1</td>\n",
              "      <td>True</td>\n",
              "      <td>3</td>\n",
              "    </tr>\n",
              "    <tr>\n",
              "      <th>39</th>\n",
              "      <td>5</td>\n",
              "      <td>1</td>\n",
              "      <td>True</td>\n",
              "      <td>5</td>\n",
              "    </tr>\n",
              "    <tr>\n",
              "      <th>40</th>\n",
              "      <td>2</td>\n",
              "      <td>1</td>\n",
              "      <td>True</td>\n",
              "      <td>2</td>\n",
              "    </tr>\n",
              "    <tr>\n",
              "      <th>41</th>\n",
              "      <td>8</td>\n",
              "      <td>1</td>\n",
              "      <td>True</td>\n",
              "      <td>8</td>\n",
              "    </tr>\n",
              "    <tr>\n",
              "      <th>42</th>\n",
              "      <td>8</td>\n",
              "      <td>1</td>\n",
              "      <td>True</td>\n",
              "      <td>8</td>\n",
              "    </tr>\n",
              "    <tr>\n",
              "      <th>43</th>\n",
              "      <td>2</td>\n",
              "      <td>1</td>\n",
              "      <td>True</td>\n",
              "      <td>2</td>\n",
              "    </tr>\n",
              "    <tr>\n",
              "      <th>44</th>\n",
              "      <td>1</td>\n",
              "      <td>1</td>\n",
              "      <td>True</td>\n",
              "      <td>1</td>\n",
              "    </tr>\n",
              "    <tr>\n",
              "      <th>45</th>\n",
              "      <td>1</td>\n",
              "      <td>1</td>\n",
              "      <td>True</td>\n",
              "      <td>1</td>\n",
              "    </tr>\n",
              "    <tr>\n",
              "      <th>46</th>\n",
              "      <td>2</td>\n",
              "      <td>1</td>\n",
              "      <td>True</td>\n",
              "      <td>2</td>\n",
              "    </tr>\n",
              "    <tr>\n",
              "      <th>47</th>\n",
              "      <td>2</td>\n",
              "      <td>1</td>\n",
              "      <td>True</td>\n",
              "      <td>2</td>\n",
              "    </tr>\n",
              "    <tr>\n",
              "      <th>48</th>\n",
              "      <td>6</td>\n",
              "      <td>1</td>\n",
              "      <td>True</td>\n",
              "      <td>6</td>\n",
              "    </tr>\n",
              "    <tr>\n",
              "      <th>49</th>\n",
              "      <td>2</td>\n",
              "      <td>1</td>\n",
              "      <td>True</td>\n",
              "      <td>2</td>\n",
              "    </tr>\n",
              "    <tr>\n",
              "      <th>50</th>\n",
              "      <td>4</td>\n",
              "      <td>1</td>\n",
              "      <td>True</td>\n",
              "      <td>4</td>\n",
              "    </tr>\n",
              "  </tbody>\n",
              "</table>\n",
              "</div>"
            ],
            "text/plain": [
              "    fraud_flag                  \n",
              "         count unique   top freq\n",
              "age                             \n",
              "20           2      1  True    2\n",
              "21           1      1  True    1\n",
              "22           5      1  True    5\n",
              "23           4      1  True    4\n",
              "24           5      1  True    5\n",
              "25           2      1  True    2\n",
              "26           3      1  True    3\n",
              "27           3      1  True    3\n",
              "28           1      1  True    1\n",
              "29           5      1  True    5\n",
              "30           7      1  True    7\n",
              "31           4      1  True    4\n",
              "32           5      1  True    5\n",
              "33           4      1  True    4\n",
              "34           2      1  True    2\n",
              "35           4      1  True    4\n",
              "36           3      1  True    3\n",
              "37           3      1  True    3\n",
              "38           3      1  True    3\n",
              "39           5      1  True    5\n",
              "40           2      1  True    2\n",
              "41           8      1  True    8\n",
              "42           8      1  True    8\n",
              "43           2      1  True    2\n",
              "44           1      1  True    1\n",
              "45           1      1  True    1\n",
              "46           2      1  True    2\n",
              "47           2      1  True    2\n",
              "48           6      1  True    6\n",
              "49           2      1  True    2\n",
              "50           4      1  True    4"
            ]
          },
          "metadata": {
            "tags": []
          },
          "execution_count": 232
        }
      ]
    },
    {
      "cell_type": "code",
      "metadata": {
        "id": "fzFq5ujRBlQ3",
        "colab_type": "code",
        "colab": {
          "base_uri": "https://localhost:8080/",
          "height": 368
        },
        "outputId": "f676c982-8a5d-4ce6-95be-2daea6af2cb4"
      },
      "source": [
        "fig, ax = plt.subplots(1, 1, figsize=(10, 5), squeeze=False)\n",
        "\n",
        "colors = [ 'lightgreen', 'darkred']\n",
        "labels = ['Not flagged', 'Flagged']\n",
        "\n",
        "plt.hist([dataset_transactions[dataset_transactions.fraud_flag == False]['age'], \n",
        "          dataset_transactions[dataset_transactions.fraud_flag == True]['age']], \n",
        "          density=True, label=labels, color=colors)\n",
        "\n",
        "plt.title('Histogram of Age') \n",
        "\n",
        "plt.legend() \n",
        "plt.tight_layout() \n",
        "plt.show()"
      ],
      "execution_count": 227,
      "outputs": [
        {
          "output_type": "display_data",
          "data": {
            "image/png": "[encoded data removed]",
            "text/plain": [
              "<Figure size 720x360 with 1 Axes>"
            ]
          },
          "metadata": {
            "tags": [],
            "needs_background": "light"
          }
        }
      ]
    },
    {
      "cell_type": "markdown",
      "metadata": {
        "id": "dNXacp0XUjE5",
        "colab_type": "text"
      },
      "source": [
        "The graph shows that ages 30, 31 and 32 as well as 42 and 43 have a higher percentage of fraudulent transactions compared to non-fraudulent ones. In turn, ages 26 and 27, as well as 45 and 46, have a lower percentage of fraudulent transactions compared to non-fraudulent ones."
      ]
    },
    {
      "cell_type": "markdown",
      "metadata": {
        "id": "L7a0DkN4Hr-r",
        "colab_type": "text"
      },
      "source": [
        "### Credit_Limit"
      ]
    },
    {
      "cell_type": "code",
      "metadata": {
        "id": "8CcV14NvITKC",
        "colab_type": "code",
        "colab": {
          "base_uri": "https://localhost:8080/",
          "height": 368
        },
        "outputId": "b85c5d30-d289-4cfa-82eb-e4c4a7c651af"
      },
      "source": [
        "fig, ax = plt.subplots(1, 1, figsize=(10, 5), squeeze=False)\n",
        "\n",
        "colors = [ 'lightgreen', 'darkred']\n",
        "labels = ['Not flagged', 'Flagged']\n",
        "\n",
        "plt.hist([dataset_transactions[dataset_transactions.fraud_flag == False]['credit_limit'], \n",
        "          dataset_transactions[dataset_transactions.fraud_flag == True]['credit_limit']], \n",
        "          density=True, label=labels, color=colors)\n",
        "\n",
        "plt.title('Histogram of credit_limit') \n",
        "\n",
        "plt.legend() \n",
        "plt.tight_layout() \n",
        "plt.show()"
      ],
      "execution_count": 237,
      "outputs": [
        {
          "output_type": "display_data",
          "data": {
            "image/png": "[encoded data removed]",
            "text/plain": [
              "<Figure size 720x360 with 1 Axes>"
            ]
          },
          "metadata": {
            "tags": [],
            "needs_background": "light"
          }
        }
      ]
    },
    {
      "cell_type": "markdown",
      "metadata": {
        "id": "J7LsowUCaqjW",
        "colab_type": "text"
      },
      "source": [
        "The graph shows that the credit limits of 150000 and 400000 have a higher percentage of fraudulent transactions compared to non-fraudulent ones. In turn, the credit limit below 150000 and 600000 has a lower percentage of fraudulent transactions compared to non-fraudulent ones."
      ]
    },
    {
      "cell_type": "markdown",
      "metadata": {
        "id": "rfCPJuJxKy8j",
        "colab_type": "text"
      },
      "source": [
        "### Value"
      ]
    },
    {
      "cell_type": "code",
      "metadata": {
        "id": "yg0bhCrLK5d7",
        "colab_type": "code",
        "colab": {
          "base_uri": "https://localhost:8080/",
          "height": 368
        },
        "outputId": "ca47c671-d48e-42b9-b3c1-c8c56cffff3f"
      },
      "source": [
        "fig, ax = plt.subplots(1, 1, figsize=(10, 5), squeeze=False)\n",
        "\n",
        "colors = [ 'lightgreen', 'darkred']\n",
        "labels = ['Not flagged', 'Flagged']\n",
        "\n",
        "plt.hist([dataset_transactions[dataset_transactions.fraud_flag == False]['value'], \n",
        "          dataset_transactions[dataset_transactions.fraud_flag == True]['value']], \n",
        "          density=True, label=labels, color=colors)\n",
        "\n",
        "plt.title('Histogram of value') \n",
        "\n",
        "plt.legend() \n",
        "plt.tight_layout() \n",
        "plt.show()"
      ],
      "execution_count": 242,
      "outputs": [
        {
          "output_type": "display_data",
          "data": {
            "image/png": "[encoded data removed]",
            "text/plain": [
              "<Figure size 720x360 with 1 Axes>"
            ]
          },
          "metadata": {
            "tags": [],
            "needs_background": "light"
          }
        }
      ]
    },
    {
      "cell_type": "markdown",
      "metadata": {
        "id": "vMGDzqHramfE",
        "colab_type": "text"
      },
      "source": [
        "The graph shows that the values: 9000, between 30000 and 40000, and 48000 have a higher percentage of fraudulent transactions compared to non-fraudulent ones. In turn, all other amounts have a lower percentage of fraudulent transactions compared to non-fraudulent ones."
      ]
    },
    {
      "cell_type": "markdown",
      "metadata": {
        "id": "dRt4j0iDM-VX",
        "colab_type": "text"
      },
      "source": [
        "### Day"
      ]
    },
    {
      "cell_type": "code",
      "metadata": {
        "id": "dRTQ-qwAM92R",
        "colab_type": "code",
        "colab": {
          "base_uri": "https://localhost:8080/",
          "height": 368
        },
        "outputId": "e248e63f-13a5-47b3-e0bf-d4952f1ed170"
      },
      "source": [
        "fig, ax = plt.subplots(1, 1, figsize=(10, 5), squeeze=False)\n",
        "\n",
        "colors = [ 'lightgreen', 'darkred']\n",
        "labels = ['Not flagged', 'Flagged']\n",
        "\n",
        "plt.hist([dataset_transactions[dataset_transactions.fraud_flag == False]['day'], \n",
        "          dataset_transactions[dataset_transactions.fraud_flag == True]['day']], \n",
        "          density=True, label=labels, color=colors)\n",
        "\n",
        "plt.title('Histogram of Day') \n",
        "\n",
        "plt.legend() \n",
        "plt.tight_layout() \n",
        "plt.show()"
      ],
      "execution_count": 257,
      "outputs": [
        {
          "output_type": "display_data",
          "data": {
            "image/png": "[encoded data removed]",
            "text/plain": [
              "<Figure size 720x360 with 1 Axes>"
            ]
          },
          "metadata": {
            "tags": [],
            "needs_background": "light"
          }
        }
      ]
    },
    {
      "cell_type": "markdown",
      "metadata": {
        "id": "4JWChlmAaknF",
        "colab_type": "text"
      },
      "source": [
        "The graph shows that days 5, 6, 7, 8, 9, 10, 11, 12, 17, 18, 29 and 30 have a higher percentage of fraudulent transactions compared to non-fraudulent ones. In turn, every other day has a lower percentage of fraudulent transactions compared to non-fraudulent ones."
      ]
    },
    {
      "cell_type": "markdown",
      "metadata": {
        "id": "UiIR1qSwNOsF",
        "colab_type": "text"
      },
      "source": [
        "### Month"
      ]
    },
    {
      "cell_type": "code",
      "metadata": {
        "id": "GkyzsKm3NOYB",
        "colab_type": "code",
        "colab": {
          "base_uri": "https://localhost:8080/",
          "height": 368
        },
        "outputId": "a2fe7e4a-c9ce-4e7d-8e76-eb51a91a6c9e"
      },
      "source": [
        "fig, ax = plt.subplots(1, 1, figsize=(10, 5), squeeze=False)\n",
        "\n",
        "colors = [ 'lightgreen', 'darkred']\n",
        "labels = ['Not flagged', 'Flagged']\n",
        "\n",
        "plt.hist([dataset_transactions[dataset_transactions.fraud_flag == False]['month'], \n",
        "          dataset_transactions[dataset_transactions.fraud_flag == True]['month']], \n",
        "          density=True, label=labels, color=colors)\n",
        "\n",
        "plt.title('Histogram of month') \n",
        "\n",
        "plt.legend() \n",
        "plt.tight_layout() \n",
        "plt.show()"
      ],
      "execution_count": 264,
      "outputs": [
        {
          "output_type": "display_data",
          "data": {
            "image/png": "[encoded data removed]",
            "text/plain": [
              "<Figure size 720x360 with 1 Axes>"
            ]
          },
          "metadata": {
            "tags": [],
            "needs_background": "light"
          }
        }
      ]
    },
    {
      "cell_type": "markdown",
      "metadata": {
        "id": "c7tm6WmJUWFq",
        "colab_type": "text"
      },
      "source": [
        "The graph shows that months 1, 4, 6 and 9 have a higher percentage of fraudulent transactions compared to non-fraudulent ones. In turn, all other months have a lower percentage of fraudulent transactions compared to non-fraudulent ones."
      ]
    },
    {
      "cell_type": "markdown",
      "metadata": {
        "id": "ngOdH6oEOg1C",
        "colab_type": "text"
      },
      "source": [
        "### Experiment"
      ]
    },
    {
      "cell_type": "code",
      "metadata": {
        "id": "U-13pYbNOuP8",
        "colab_type": "code",
        "colab": {
          "base_uri": "https://localhost:8080/",
          "height": 70
        },
        "outputId": "d5d61290-1e52-4004-b494-b7dda82aff56"
      },
      "source": [
        "dataset_transactions.columns\n"
      ],
      "execution_count": 259,
      "outputs": [
        {
          "output_type": "execute_result",
          "data": {
            "text/plain": [
              "Index(['value', 'segment', 'fraud_flag', 'age', 'customer_seg', 'card_family',\n",
              "       'credit_limit', 'day', 'month'],\n",
              "      dtype='object')"
            ]
          },
          "metadata": {
            "tags": []
          },
          "execution_count": 259
        }
      ]
    },
    {
      "cell_type": "code",
      "metadata": {
        "id": "GDZbw9myOhlv",
        "colab_type": "code",
        "colab": {
          "base_uri": "https://localhost:8080/",
          "height": 347
        },
        "outputId": "e9ef4264-4829-4965-d0ad-ca0941deed23"
      },
      "source": [
        "dataset_transactions['Limit_percent_value'] = (dataset_transactions.value / dataset_transactions.credit_limit)*100\n",
        "dataset_transactions.head(10)"
      ],
      "execution_count": 273,
      "outputs": [
        {
          "output_type": "execute_result",
          "data": {
            "text/html": [
              "<div>\n",
              "<style scoped>\n",
              "    .dataframe tbody tr th:only-of-type {\n",
              "        vertical-align: middle;\n",
              "    }\n",
              "\n",
              "    .dataframe tbody tr th {\n",
              "        vertical-align: top;\n",
              "    }\n",
              "\n",
              "    .dataframe thead th {\n",
              "        text-align: right;\n",
              "    }\n",
              "</style>\n",
              "<table border=\"1\" class=\"dataframe\">\n",
              "  <thead>\n",
              "    <tr style=\"text-align: right;\">\n",
              "      <th></th>\n",
              "      <th>value</th>\n",
              "      <th>segment</th>\n",
              "      <th>fraud_flag</th>\n",
              "      <th>age</th>\n",
              "      <th>customer_seg</th>\n",
              "      <th>card_family</th>\n",
              "      <th>credit_limit</th>\n",
              "      <th>day</th>\n",
              "      <th>month</th>\n",
              "      <th>Limit_percent_value</th>\n",
              "    </tr>\n",
              "  </thead>\n",
              "  <tbody>\n",
              "    <tr>\n",
              "      <th>0</th>\n",
              "      <td>23649</td>\n",
              "      <td>SEG25</td>\n",
              "      <td>False</td>\n",
              "      <td>23</td>\n",
              "      <td>Gold</td>\n",
              "      <td>Platinum</td>\n",
              "      <td>194000</td>\n",
              "      <td>24</td>\n",
              "      <td>4</td>\n",
              "      <td>12.190206</td>\n",
              "    </tr>\n",
              "    <tr>\n",
              "      <th>1</th>\n",
              "      <td>26726</td>\n",
              "      <td>SEG16</td>\n",
              "      <td>False</td>\n",
              "      <td>48</td>\n",
              "      <td>Gold</td>\n",
              "      <td>Gold</td>\n",
              "      <td>15000</td>\n",
              "      <td>11</td>\n",
              "      <td>2</td>\n",
              "      <td>178.173333</td>\n",
              "    </tr>\n",
              "    <tr>\n",
              "      <th>2</th>\n",
              "      <td>22012</td>\n",
              "      <td>SEG14</td>\n",
              "      <td>False</td>\n",
              "      <td>23</td>\n",
              "      <td>Diamond</td>\n",
              "      <td>Gold</td>\n",
              "      <td>2000</td>\n",
              "      <td>1</td>\n",
              "      <td>11</td>\n",
              "      <td>1100.600000</td>\n",
              "    </tr>\n",
              "    <tr>\n",
              "      <th>3</th>\n",
              "      <td>37637</td>\n",
              "      <td>SEG17</td>\n",
              "      <td>False</td>\n",
              "      <td>44</td>\n",
              "      <td>Platinum</td>\n",
              "      <td>Gold</td>\n",
              "      <td>19000</td>\n",
              "      <td>28</td>\n",
              "      <td>1</td>\n",
              "      <td>198.089474</td>\n",
              "    </tr>\n",
              "    <tr>\n",
              "      <th>4</th>\n",
              "      <td>5113</td>\n",
              "      <td>SEG14</td>\n",
              "      <td>False</td>\n",
              "      <td>42</td>\n",
              "      <td>Gold</td>\n",
              "      <td>Premium</td>\n",
              "      <td>417000</td>\n",
              "      <td>17</td>\n",
              "      <td>3</td>\n",
              "      <td>1.226139</td>\n",
              "    </tr>\n",
              "    <tr>\n",
              "      <th>5</th>\n",
              "      <td>9551</td>\n",
              "      <td>SEG13</td>\n",
              "      <td>False</td>\n",
              "      <td>27</td>\n",
              "      <td>Platinum</td>\n",
              "      <td>Platinum</td>\n",
              "      <td>192000</td>\n",
              "      <td>15</td>\n",
              "      <td>5</td>\n",
              "      <td>4.974479</td>\n",
              "    </tr>\n",
              "    <tr>\n",
              "      <th>6</th>\n",
              "      <td>29511</td>\n",
              "      <td>SEG13</td>\n",
              "      <td>False</td>\n",
              "      <td>44</td>\n",
              "      <td>Diamond</td>\n",
              "      <td>Gold</td>\n",
              "      <td>31000</td>\n",
              "      <td>11</td>\n",
              "      <td>7</td>\n",
              "      <td>95.196774</td>\n",
              "    </tr>\n",
              "    <tr>\n",
              "      <th>7</th>\n",
              "      <td>27830</td>\n",
              "      <td>SEG21</td>\n",
              "      <td>False</td>\n",
              "      <td>35</td>\n",
              "      <td>Diamond</td>\n",
              "      <td>Premium</td>\n",
              "      <td>492000</td>\n",
              "      <td>26</td>\n",
              "      <td>7</td>\n",
              "      <td>5.656504</td>\n",
              "    </tr>\n",
              "    <tr>\n",
              "      <th>8</th>\n",
              "      <td>35328</td>\n",
              "      <td>SEG18</td>\n",
              "      <td>False</td>\n",
              "      <td>38</td>\n",
              "      <td>Diamond</td>\n",
              "      <td>Premium</td>\n",
              "      <td>782000</td>\n",
              "      <td>16</td>\n",
              "      <td>1</td>\n",
              "      <td>4.517647</td>\n",
              "    </tr>\n",
              "    <tr>\n",
              "      <th>9</th>\n",
              "      <td>9567</td>\n",
              "      <td>SEG21</td>\n",
              "      <td>False</td>\n",
              "      <td>31</td>\n",
              "      <td>Platinum</td>\n",
              "      <td>Platinum</td>\n",
              "      <td>162000</td>\n",
              "      <td>6</td>\n",
              "      <td>11</td>\n",
              "      <td>5.905556</td>\n",
              "    </tr>\n",
              "  </tbody>\n",
              "</table>\n",
              "</div>"
            ],
            "text/plain": [
              "   value segment  fraud_flag  ...  day month Limit_percent_value\n",
              "0  23649   SEG25       False  ...   24     4           12.190206\n",
              "1  26726   SEG16       False  ...   11     2          178.173333\n",
              "2  22012   SEG14       False  ...    1    11         1100.600000\n",
              "3  37637   SEG17       False  ...   28     1          198.089474\n",
              "4   5113   SEG14       False  ...   17     3            1.226139\n",
              "5   9551   SEG13       False  ...   15     5            4.974479\n",
              "6  29511   SEG13       False  ...   11     7           95.196774\n",
              "7  27830   SEG21       False  ...   26     7            5.656504\n",
              "8  35328   SEG18       False  ...   16     1            4.517647\n",
              "9   9567   SEG21       False  ...    6    11            5.905556\n",
              "\n",
              "[10 rows x 10 columns]"
            ]
          },
          "metadata": {
            "tags": []
          },
          "execution_count": 273
        }
      ]
    },
    {
      "cell_type": "code",
      "metadata": {
        "id": "MRTEh4dRQFE5",
        "colab_type": "code",
        "colab": {
          "base_uri": "https://localhost:8080/",
          "height": 368
        },
        "outputId": "66794fc6-458d-45b6-f34c-53d4fcf8fc9c"
      },
      "source": [
        "fig, ax = plt.subplots(1, 1, figsize=(10, 5), squeeze=False)\n",
        "\n",
        "colors = [ 'lightgreen', 'darkred']\n",
        "labels = ['Not flagged', 'Flagged']\n",
        "\n",
        "plt.hist([dataset_transactions[dataset_transactions.fraud_flag == False]['Limit_percent_value'], \n",
        "          dataset_transactions[dataset_transactions.fraud_flag == True]['Limit_percent_value']], \n",
        "          density=True, label=labels, color=colors)\n",
        "\n",
        "plt.title('Histogram of Limit_percent_value') \n",
        "\n",
        "plt.legend() \n",
        "plt.tight_layout() \n",
        "plt.show()"
      ],
      "execution_count": 263,
      "outputs": [
        {
          "output_type": "display_data",
          "data": {
            "image/png": "[encoded data removed]",
            "text/plain": [
              "<Figure size 720x360 with 1 Axes>"
            ]
          },
          "metadata": {
            "tags": [],
            "needs_background": "light"
          }
        }
      ]
    },
    {
      "cell_type": "markdown",
      "metadata": {
        "id": "n6pEtSevRT59",
        "colab_type": "text"
      },
      "source": [
        "I tried an experiment feature, I divided the transaction amount by the card limit. \n",
        "The graph shows that in most transactions the amounts are less than or equal to the credit limit. We also realized that the value of some transactions far exceeds the value of the available credit limit. However, I didn't notice almost any variation between the percentage of valid transactions and fraudulent transactions."
      ]
    },
    {
      "cell_type": "markdown",
      "metadata": {
        "id": "gd3Tcw7FS49v",
        "colab_type": "text"
      },
      "source": [
        "### Conclusion:"
      ]
    },
    {
      "cell_type": "markdown",
      "metadata": {
        "id": "WXI3q5zz3dhT",
        "colab_type": "text"
      },
      "source": [
        "In this dataset it was possible to see that some attributes have a higher percentage of fraudulent than non-fradulent.\n",
        "The greater the difference, the greater the possibility of fraud.\n",
        "\n",
        "Among the attributes analyzed, these stood out with the great possibility of a fradulent transaction: segment 11, Diamond, ages 30 and 42, credit_limit of 150,000 and 400,000, transaction values ​​between 30,000 and 40,000 and transactions in the month 9.\n",
        "\n",
        "It was not possible to visualize the relationship between the attributes of the correlation matrix analysis.\n",
        "I believe that with more data and the dataset balanced, it would be possible to obtain better results.\n",
        "\n",
        "\n"
      ]
    }
  ]
}